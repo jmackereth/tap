{
 "cells": [
  {
   "cell_type": "markdown",
   "metadata": {
    "nbpresent": {
     "id": "57cf028f-532b-488d-a0b8-6e9c2da3d668"
    }
   },
   "source": [
    "# A short introduction to Gaia Archive: ADQL & TAP by examples\n",
    "\n",
    "## Morgan Fouesneau (tiny addition by Ted Mackereth...)"
   ]
  },
  {
   "cell_type": "markdown",
   "metadata": {},
   "source": [
    "# Notebook configuration\n",
    "\n",
    "Below we will do some plotting. The following commands are making things a bit nicer. (all personal libraries are included with this notebook)."
   ]
  },
  {
   "cell_type": "code",
   "execution_count": null,
   "metadata": {
    "hide": true,
    "nbpresent": {
     "id": "f00b6bd3-192a-4079-bd15-7d07f46af072"
    }
   },
   "outputs": [],
   "source": [
    "# Loading configuration\n",
    "# Don't forget that mac has this annoying configuration that leads\n",
    "# to limited number of figures/files\n",
    "# ulimit -n 4096    <---- osx limits to 256\n",
    "import warnings\n",
    "warnings.catch_warnings()\n",
    "warnings.simplefilter(\"ignore\")\n",
    "\n",
    "%pylab inline\n",
    "%config InlineBackend.figure_format='retina'\n",
    "\n",
    "import pylab as plt\n",
    "import numpy as np\n",
    "import healpy\n",
    "import figrc, setup_mpl\n"
   ]
  },
  {
   "cell_type": "markdown",
   "metadata": {
    "nbpresent": {
     "id": "d3d5b471-cb30-4795-a0a1-0cac930bfbb1"
    }
   },
   "source": [
    "# Interogating Gaia Archive\n",
    "\n",
    "Gaia Archive website: https://gea.esac.esa.int/archive/"
   ]
  },
  {
   "cell_type": "markdown",
   "metadata": {
    "nbpresent": {
     "id": "2889bf72-a613-4be9-9c4b-4233d2ca2281"
    }
   },
   "source": [
    "The entry point is a TAP (Table Access Protocol) server.\n",
    "\n",
    "TAP provides two operation modes, **Synchronous** and **Asynchronous**.\n",
    "\n",
    "* **Synchronous**: the response to the request will be generated as soon as the request received by the server.\n",
    "\n",
    "* **Asynchronous**: the server will start a job that will execute the request.\n",
    "  The first response to the request is the required information (a link) to obtain the job status. \n",
    "  Once the job is finished, the results can be retrieved.\n",
    "  "
   ]
  },
  {
   "cell_type": "markdown",
   "metadata": {
    "nbpresent": {
     "id": "c6ffd555-45e2-464b-b6f7-319ab9c93255"
    }
   },
   "source": [
    "## Gaia Archive TAP service\n",
    "Gaia Archive TAP server provides two access modes: *public* and *authenticated*\n",
    "\n",
    "* **Public**: this is the standard TAP access. \n",
    "  A user can execute ADQL queries and upload tables to be used in a query 'on-the-fly' (these tables will be removed once the query is executed). \n",
    "  The results are available to any other user and they will remain in the server for a limited space of time.\n",
    "  \n",
    "* **Authenticated**: some functionalities are restricted to authenticated users only.\n",
    "  The results are saved in a private user space and they will remain in the server for ever (they can be removed by the user). ADQL queries and results are saved in a user private area.\n",
    "\n",
    "* *Cross-match operations*: a catalogue cross-match operation can be executed. \n",
    "  Cross-match operations results are saved in a user private area."
   ]
  },
  {
   "cell_type": "markdown",
   "metadata": {},
   "source": [
    "## What is ADQL?\n",
    "\n",
    "ADQL = Astronomical Data Query Language\n",
    "\n",
    "ADQL has been developed based on `SQL92` and supports a subset of the SQL grammar with extensions to support generic and astronomy specific operations.\n",
    "\n",
    "In other words, ADQL is a SQL-like searching language improved with geometrical functions.\n",
    "\n",
    "for more information see the IVOA documentation http://www.ivoa.net/documents/latest/ADQL.html\n",
    "\n",
    "* examples of SQL minimal queries\n",
    "\n",
    "```mysql\n",
    "SELECT *\n",
    "FROM \"gaiadr1.tgas_source\"\n",
    "```\n",
    "\n",
    "```mysql\n",
    "SELECT top 1000 ra, dec, phot_g_mean_mag AS mag  \n",
    "FROM \"gaiadr1.gaia_source\"\n",
    "ORDER BY mag\n",
    "```"
   ]
  },
  {
   "cell_type": "markdown",
   "metadata": {},
   "source": [
    "### Basic Keywords\n",
    "\n",
    "* `TOP` limits the number of records to display\n",
    "* `ORDER BY` sorts records in ascending (`ASC`, default) or descending (`DESC`)\n",
    "* `WHERE` filters records according to logical expressions\n",
    "* `IN`, `NOT IN` operator that can determine whether a value is (not) within a given set\n",
    "* `BETWEEN x AND y` operator can determine whether a value is within a given interval\n",
    "* `LIKE` operator allows for a partial comparison, It uses wild cards `%` and `_` ('percent' and 'underscore'). The wild card `%` replaces any string of characters, including the empty string. The underscore replaces exactly one character.\n",
    "* `GROUP BY` groups records by identical values (or set of values)\n",
    "* `=` or `>` or `<` or `>=` or `<=` or `<>`, different operators of logical comparisons\n",
    "* `+`, `-`, `*`, `/`, compute columns using mathematical operations\n",
    "* `POWER(column_name, n)` returns values raised to the power n. n must be a integer positive or negative.\n",
    "* `SQRT(column_name)` returns the square root of values.\n",
    "* `CEILING(column_name)` rounds up to the nearest integer value.\n",
    "* `FLOOR(column name)` rounds down to the next least integer value.\n",
    "* `ABS(column_name)` returns the absolute value.\n",
    "* `AVG (column_name)` this function returns the average value in a column for a group of data lines\n",
    "* `COUNT (column_name)` this function returns a count of rows from a reference column values if it is not NULL.\n",
    "* `SUM(column_name)` this function returns the sum of values in a column for a group of data lines. \n",
    "* `MAX`, `MIN`, return the largest or smallest value of a column for a group of data lines.\n",
    "* `COS`, `SIN`, `TAN`, `ACOS`, `ASIN`, `ATAN` of  an angle in radian compute the trigonometric transformation"
   ]
  },
  {
   "cell_type": "markdown",
   "metadata": {},
   "source": [
    "### Geometries and geometrical functions\n",
    "\n",
    "ADQL provides a set of 2D-functions and geometries or *regions*\n",
    "\n",
    "A region is always attached to a coordinate System: `FK4`, `FK5`, `ICRS`, `GALACTIC`.\n",
    "The coordinates expressed *in degree*, can be constant or the result of a mathematical expression.\n",
    "\n",
    "* `POINT('coordinate system', right ascension, declination)` expresses a point source on the sky\n",
    "\n",
    "* `CIRCLE('coordinate system',right ascension center, declination center, radius in degrees)` expresses a circular region on the sky (a cone in space)\n",
    "\n",
    "* `BOX('coordinate system', right ascension center, declination center, width, height)` defines a centered box\n",
    "\n",
    "* `POLYGON('coordinate system', coordinate point 1, coordinate point 2, coordinate point 3...)` expresses a region on the sky with sides denoted by great circles passing through specified list of `POINT` objects.\n",
    "\n",
    "* `DISTANCE(point1, point2)` computes distance between two points.\n",
    "\n",
    "* `CONTAINS(region1, region2)` returns a boolean value : `true` if `region2` contains `region1`, `false` otherwise.\n",
    "\n",
    "* `INTERSECTS(region1, region2)` returns a boolean value : `true` if `region2` intersect `region1`, `false` otherwise."
   ]
  },
  {
   "cell_type": "markdown",
   "metadata": {},
   "source": [
    "# Current python package"
   ]
  },
  {
   "cell_type": "markdown",
   "metadata": {
    "nbpresent": {
     "id": "9394d574-1496-4493-a977-eaa471ed3a16"
    }
   },
   "source": [
    "**Some common code to send ADQL Queries to TAP services and notebook polishing**\n",
    "\n",
    "* `GaiaArchive` is a shortcut from `TAP_service` to the interface with the Gaia Archive\n",
    "* `TAPVizieR`   is a shortcut from `TAP_service` to the interface with TAP service of VizieR (CDS).\n",
    "* `GAVO`        is a shortcut from `TAP_service` to interface with GAVO service.\n",
    "* `resolve`     interfaces CDS/Sesame name resolver to get positions of known objects by their names.\n",
    "* `QueryStr`    is a polished string that parses an SQL syntax to make it look nicer (for notebook and console)\n",
    "* `timeit`      a context manager/decorator that reports execution time (for notebook and console)"
   ]
  },
  {
   "cell_type": "code",
   "execution_count": null,
   "metadata": {},
   "outputs": [],
   "source": [
    "try:\n",
    "    from tap import (GaiaArchive, TAPVizieR, resolve, QueryStr, timeit)\n",
    "except ImportError:\n",
    "    # Running from the repository\n",
    "    import sys\n",
    "    sys.path.append('..')\n",
    "    from tap import (GaiaArchive, TAPVizieR, resolve, QueryStr, timeit)"
   ]
  },
  {
   "cell_type": "markdown",
   "metadata": {
    "nbpresent": {
     "id": "c97cc15e-ccc4-4419-8311-700d0cf8dbb0"
    }
   },
   "source": [
    "## Quick Start: How to query TAP with this package?\n",
    "\n",
    "Let's start by checking that we can access the data by requesting the first 5 sources in TGAS.\n",
    "\n",
    "**Synchronous mode**\n",
    "\n",
    "Get the service and submit the query. The result will be downloaded automatically."
   ]
  },
  {
   "cell_type": "code",
   "execution_count": null,
   "metadata": {},
   "outputs": [],
   "source": [
    "gaia = GaiaArchive()"
   ]
  },
  {
   "cell_type": "markdown",
   "metadata": {},
   "source": [
    "select a small number of rows in the gaia DR1 data table. \n",
    "\n",
    "**Note**: we use `QueryStr` only for giving an easier reading. A string would work as well."
   ]
  },
  {
   "cell_type": "code",
   "execution_count": null,
   "metadata": {},
   "outputs": [],
   "source": [
    "adql = QueryStr(\"\"\"\n",
    "select top 5 * from gaiadr2.gaia_source\n",
    "\"\"\")"
   ]
  },
  {
   "cell_type": "markdown",
   "metadata": {},
   "source": [
    "Now we run the query. \n",
    "\n",
    "**Note**: we use `timeit` in this notebook to indicate how long the operation  `gaia.query` took."
   ]
  },
  {
   "cell_type": "code",
   "execution_count": null,
   "metadata": {
    "nbpresent": {
     "id": "cd80f04a-5a8e-4357-a90d-462455c85363"
    },
    "scrolled": true
   },
   "outputs": [],
   "source": [
    "timeit(gaia.query)(adql)"
   ]
  },
  {
   "cell_type": "markdown",
   "metadata": {
    "nbpresent": {
     "id": "60d0b275-baab-4827-b8c7-6b2b6148005b"
    }
   },
   "source": [
    "**Asynchronous mode**\n",
    "\n",
    "From the same service, use the `query_async` method. The job will be submitted and accessible later.\n",
    "\n",
    "*Why this mode would be prefered?* Some services (incl. the Gaia Archive) limit strongly the queries using the synchronous mode. For example the Gaia Archive limits to 1 minute jobs, mostly to avoid comminucation issues.\n",
    "Read the documentation of the service you want to use to decide.\n",
    "\n",
    "Below I use the `async` mode to redo the exact same query as before."
   ]
  },
  {
   "cell_type": "code",
   "execution_count": null,
   "metadata": {
    "nbpresent": {
     "id": "992a58fb-1f2c-494c-a3b9-a78b19fc86d9"
    }
   },
   "outputs": [],
   "source": [
    "q = gaia.query_async(adql, silent=True)\n",
    "q   # pretty print display"
   ]
  },
  {
   "cell_type": "markdown",
   "metadata": {},
   "source": [
    "One can interogate the service to know if the task is complete."
   ]
  },
  {
   "cell_type": "code",
   "execution_count": null,
   "metadata": {
    "nbpresent": {
     "id": "72553e72-8a26-4280-b104-1b6fd148274a"
    }
   },
   "outputs": [],
   "source": [
    "q.status"
   ]
  },
  {
   "cell_type": "markdown",
   "metadata": {},
   "source": [
    "Finally we can download the result when available. \n",
    "\n",
    "(The provided python interface has an option to wait or not for completion; keyword `wait=True`, default behavior)"
   ]
  },
  {
   "cell_type": "code",
   "execution_count": null,
   "metadata": {
    "nbpresent": {
     "id": "d6351fd2-af95-49ca-b908-11fd39f6d619"
    }
   },
   "outputs": [],
   "source": [
    "q.get()"
   ]
  },
  {
   "cell_type": "markdown",
   "metadata": {},
   "source": [
    "Luckily, we obtain the same result as before."
   ]
  },
  {
   "cell_type": "markdown",
   "metadata": {},
   "source": [
    "**Authenticate with your account**\n",
    "\n",
    "The current python package also allows you to authenticate. This is mostly relevant when using `async` queries, or user tables.\n",
    "\n",
    "```python\n",
    "gaia.login(\"my_user_name\")\n",
    "```\n",
    "The above will prompt for a password.\n",
    "\n",
    "Note that the password can also be provided as argument if you need to script some queries. It will not be stored, only the relevant `cookie` will be conserved until the end of the session."
   ]
  },
  {
   "cell_type": "code",
   "execution_count": null,
   "metadata": {},
   "outputs": [],
   "source": [
    "gaia.login('jmackere')"
   ]
  },
  {
   "cell_type": "code",
   "execution_count": null,
   "metadata": {},
   "outputs": [],
   "source": [
    "q = gaia.query_async(adql, silent=True)\n",
    "q   # pretty print display"
   ]
  },
  {
   "cell_type": "code",
   "execution_count": null,
   "metadata": {},
   "outputs": [],
   "source": [
    "q.get()"
   ]
  },
  {
   "cell_type": "markdown",
   "metadata": {},
   "source": [
    "**Callback previous jobs**\n",
    "\n",
    "In some cases (mostly when authenticated) you might want to download a previous job. This python package allows you to do so using `recall_query`, which returns an asynchronous result."
   ]
  },
  {
   "cell_type": "code",
   "execution_count": null,
   "metadata": {},
   "outputs": [],
   "source": [
    "qprime = gaia.recall_query(q.jobid)\n",
    "qprime.get()"
   ]
  },
  {
   "cell_type": "markdown",
   "metadata": {
    "nbpresent": {
     "id": "9b8e9084-ff6e-4628-a80c-7641a87dce60"
    }
   },
   "source": [
    "# Make the luminosity function of the TGAS stars"
   ]
  },
  {
   "cell_type": "markdown",
   "metadata": {},
   "source": [
    "In this example, we want to make the luminosity function of TGAS stars. Of course we could download all stars and do it on our computer but one can do it on the server side and only download the computed *histogram*.\n",
    "\n",
    "*hint*: Building a luminosity function means that we want to `select` all stars in TGAS (with magnitude) and `count` them after `grouping` them per bin of magnitudes. Additionally one will want to `sort` the bins for plotting them in order."
   ]
  },
  {
   "cell_type": "code",
   "execution_count": null,
   "metadata": {},
   "outputs": [],
   "source": [
    "adql = QueryStr(\"\"\"\n",
    "select \n",
    "    count(*) as n, \n",
    "    round(phot_g_mean_mag, 1) as val\n",
    "from \n",
    "    gaiadr1.tgas_source \n",
    "group by val\n",
    "order by val\n",
    "\"\"\")"
   ]
  },
  {
   "cell_type": "markdown",
   "metadata": {},
   "source": [
    "Run the query"
   ]
  },
  {
   "cell_type": "code",
   "execution_count": null,
   "metadata": {
    "nbpresent": {
     "id": "75f8655d-b6ec-49f8-a8f2-4699b5161f24"
    }
   },
   "outputs": [],
   "source": [
    "data_tgas = timeit(gaia.query)(adql)"
   ]
  },
  {
   "cell_type": "markdown",
   "metadata": {},
   "source": [
    "**Note**:\n",
    "Sometimes the Gaia Archive crashes... BUG! This is needed feedback to the service.\n",
    "\n",
    "You can bypass the issue by using `async` queries or re-run until you give up..."
   ]
  },
  {
   "cell_type": "code",
   "execution_count": null,
   "metadata": {},
   "outputs": [],
   "source": [
    "data_tgas = gaia.query_async(adql).get()"
   ]
  },
  {
   "cell_type": "markdown",
   "metadata": {},
   "source": [
    "Plot the histogram data."
   ]
  },
  {
   "cell_type": "code",
   "execution_count": null,
   "metadata": {
    "nbpresent": {
     "id": "dd2dfc8d-3159-4a58-ae17-9e193355954e"
    }
   },
   "outputs": [],
   "source": [
    "plt.step(data_tgas['val'], data_tgas['n'], \n",
    "         lw=2, where='pre', label='TGAS')\n",
    "plt.yscale('log')\n",
    "plt.xlabel('G magnitude')\n",
    "plt.ylabel('counts / mag')\n",
    "figrc.hide_axis('top right'.split())"
   ]
  },
  {
   "cell_type": "markdown",
   "metadata": {
    "nbpresent": {
     "id": "dadb9905-99c1-4b39-84b3-ede9b019ef77"
    }
   },
   "source": [
    "**Note**: Creating the luminosity function for the full DR1 required more than 1 min and thefore an async query, which is not handled by this simple query interface."
   ]
  },
  {
   "cell_type": "markdown",
   "metadata": {
    "nbpresent": {
     "id": "7d1208ca-69fd-42b3-abf9-559b943f79e2"
    }
   },
   "source": [
    "# Stellar density map\n",
    "\n",
    "Let's reproduce the stellar density map of TGAS stars with **all computations on the server side**.\n",
    "\n",
    "Based on the histogram technique we used for the luminosity function, one can extend it to more than one dimension."
   ]
  },
  {
   "cell_type": "code",
   "execution_count": null,
   "metadata": {},
   "outputs": [],
   "source": [
    "adql = QueryStr(\"\"\"\n",
    "select \n",
    "    count(*) as n, \n",
    "    round(l, 0) as x, \n",
    "    round(b, 0) as y\n",
    "from \n",
    "    gaiadr1.tgas_source \n",
    "group by x, y\n",
    "order by x, y\n",
    "\"\"\")"
   ]
  },
  {
   "cell_type": "markdown",
   "metadata": {},
   "source": [
    "Run the query"
   ]
  },
  {
   "cell_type": "code",
   "execution_count": null,
   "metadata": {
    "nbpresent": {
     "id": "5ff31aac-499f-4e2e-ab41-73d330f56580"
    }
   },
   "outputs": [],
   "source": [
    "data = timeit(gaia.query)(adql)"
   ]
  },
  {
   "cell_type": "markdown",
   "metadata": {},
   "source": [
    "Below you can see that the table is flat (i.e, no 2d matrix) and it contains a number $n$ for each pair $(x,y)$. Note also that empty bins are not included."
   ]
  },
  {
   "cell_type": "code",
   "execution_count": null,
   "metadata": {},
   "outputs": [],
   "source": [
    "data"
   ]
  },
  {
   "cell_type": "markdown",
   "metadata": {
    "nbpresent": {
     "id": "13fd10dc-d96e-47fd-8451-0a7163b453ce"
    }
   },
   "source": [
    "Skipping polishing the projection"
   ]
  },
  {
   "cell_type": "code",
   "execution_count": null,
   "metadata": {
    "nbpresent": {
     "id": "bbc8fe11-113c-4a5e-86c7-511859bb143e"
    }
   },
   "outputs": [],
   "source": [
    "from matplotlib.colors import LogNorm\n",
    "l = np.arange(0, 360, 1)\n",
    "b = np.arange(-90, 90, 1)\n",
    "n = np.zeros((len(l), len(b)))\n",
    "ix = np.digitize(data['x'], l)\n",
    "iy = np.digitize(data['y'], b)\n",
    "n[ix - 1, iy - 1] = data['n']\n",
    "plt.pcolormesh(l, b, n.T, \n",
    "               cmap=plt.cm.viridis, \n",
    "               norm=LogNorm())\n",
    "figrc.hide_axis('top right'.split())\n",
    "plt.xlim(l.min(), l.max())\n",
    "plt.ylim(b.min(), b.max());"
   ]
  },
  {
   "cell_type": "markdown",
   "metadata": {
    "nbpresent": {
     "id": "b923de5e-f3d2-490a-aa79-dfadf5db3659"
    }
   },
   "source": [
    "# Query around a position\n",
    "\n",
    "Using the `region` objects, one can query around a `point`. Below is an example of **cone-search**, i.e., selecting stars within 2 degrees of an object:\n",
    "\n",
    "```mysql\n",
    "select * from gaiadr1.gaia_sources\n",
    "where contains(point('ICRS', ra, dec), circle('ICRS',10.6847083,41.26875,2) ) = 1 \n",
    "```\n",
    "The `where` condition selects points from the data that are contained into the circle of given center and size.\n",
    "\n",
    "Below we make the density map of stars around the same object. We can therefore combine the 2D-histogram above and the cone-search technique.\n",
    "\n",
    "*Any idea of what object is the center of this selection?*"
   ]
  },
  {
   "cell_type": "code",
   "execution_count": null,
   "metadata": {},
   "outputs": [],
   "source": [
    "adql = QueryStr(\"\"\"\n",
    "select \n",
    "    count(*) as n, \n",
    "    round(l, 2) as latitude, \n",
    "    round(b, 2) as longitude\n",
    "from \n",
    "    gaiadr2.gaia_source \n",
    "where \n",
    "    contains(point('ICRS',gaiadr2.gaia_source.ra,gaiadr2.gaia_source.dec),\n",
    "             circle('ICRS',10.6847083,41.26875,2) )=1  \n",
    "group by latitude, longitude\n",
    "order by latitude, longitude\n",
    "\"\"\")"
   ]
  },
  {
   "cell_type": "markdown",
   "metadata": {},
   "source": [
    "Run the query"
   ]
  },
  {
   "cell_type": "code",
   "execution_count": null,
   "metadata": {
    "nbpresent": {
     "id": "761230c9-7118-4ee2-8b73-c03f24f83a27"
    }
   },
   "outputs": [],
   "source": [
    "data = timeit(gaia.query)(adql)"
   ]
  },
  {
   "cell_type": "markdown",
   "metadata": {},
   "source": [
    "Finally we plot the map"
   ]
  },
  {
   "cell_type": "code",
   "execution_count": null,
   "metadata": {
    "nbpresent": {
     "id": "767ec22e-9b60-4629-9c77-d31a17483854"
    }
   },
   "outputs": [],
   "source": [
    "plt.figure(figsize=(6,6))\n",
    "plt.subplot(111, aspect=1)\n",
    "plt.scatter(data['latitude'], data['longitude'], c=data['n'], \n",
    "            edgecolor='None', s=6, rasterized=True, norm=LogNorm(),\n",
    "            cmap=plt.cm.magma, marker='s'\n",
    "           )\n",
    "plt.xlim(data['latitude'].min(), data['latitude'].max())\n",
    "plt.ylim(data['longitude'].min(), data['longitude'].max())\n",
    "plt.axis('off');"
   ]
  },
  {
   "cell_type": "markdown",
   "metadata": {},
   "source": [
    "Let's proceed to query around another object for example `M33`\n",
    "\n",
    "ADQL does not provide a name resolver function. So you'll have to figure that for `M33` you need\n",
    "```mysql\n",
    "circle('ICRS',23.4621,30.6599417,0.5)\n",
    "```\n",
    "\n",
    "Alternatively, this python package provides a name resolver function based on the *CDS/Sesame service*.\n",
    "\n",
    "```python\n",
    "from tap import resolve\n",
    "ra, dec = resolve('m33')\n",
    "```\n",
    "Below I show the latter option."
   ]
  },
  {
   "cell_type": "code",
   "execution_count": null,
   "metadata": {
    "nbpresent": {
     "id": "525dd330-c724-461c-ad88-172b565c32a8"
    }
   },
   "outputs": [],
   "source": [
    "ra, dec = resolve('m33')\n",
    "adql = QueryStr(\"\"\"\n",
    "select \n",
    "    count(*) as n, \n",
    "    round(l, 2) as latitude, \n",
    "    round(b, 2) as longitude\n",
    "from \n",
    "    gaiadr2.gaia_source \n",
    "where \n",
    "    contains(point('ICRS',gaiadr2.gaia_source.ra,gaiadr2.gaia_source.dec),\n",
    "             circle('ICRS',{ra:f}, {dec:f},0.5) )=1  \n",
    "group by latitude, longitude\n",
    "order by latitude, longitude\n",
    "\"\"\".format(ra=ra, dec=dec))\n",
    "data = timeit(gaia.query)(adql)\n",
    "plt.figure(figsize=(6,6))\n",
    "plt.subplot(111, aspect=1)\n",
    "plt.scatter(data['latitude'], data['longitude'], c=data['n'], \n",
    "            edgecolor='None', s=9, rasterized=True, norm=LogNorm(),\n",
    "            cmap=plt.cm.magma, marker='s'\n",
    "           )\n",
    "plt.xlim(data['latitude'].min(), data['latitude'].max())\n",
    "plt.ylim(data['longitude'].min(), data['longitude'].max())\n",
    "plt.axis('off');"
   ]
  },
  {
   "cell_type": "markdown",
   "metadata": {},
   "source": [
    "# CMD of a Globular Cluster from Gaia DR2"
   ]
  },
  {
   "cell_type": "markdown",
   "metadata": {},
   "source": [
    "### Added by Ted Mackereth"
   ]
  },
  {
   "cell_type": "markdown",
   "metadata": {},
   "source": [
    "Gaia DR2 contains a bunch of globular clusters that are close enough that we can make a nice CMD of their stars. Lets see if we can make a CMD for M4...\n",
    "\n",
    "first - lets use the method above to check for stars in the sky position of M4:"
   ]
  },
  {
   "cell_type": "code",
   "execution_count": null,
   "metadata": {},
   "outputs": [],
   "source": [
    "#lets check out the sky at that position...\n",
    "ra, dec = resolve('m4')\n",
    "adql = QueryStr(\"\"\"\n",
    "select \n",
    "    count(*) as n, \n",
    "    round(l, 2) as latitude, \n",
    "    round(b, 2) as longitude\n",
    "from \n",
    "    gaiadr2.gaia_source \n",
    "where \n",
    "    contains(point('ICRS',gaiadr2.gaia_source.ra,gaiadr2.gaia_source.dec),\n",
    "             circle('ICRS',{ra:f}, {dec:f},0.5) )=1  \n",
    "group by latitude, longitude\n",
    "order by latitude, longitude\n",
    "\"\"\".format(ra=ra, dec=dec))\n",
    "data = timeit(gaia.query)(adql)\n",
    "plt.figure(figsize=(6,6))\n",
    "plt.subplot(111, aspect=1)\n",
    "plt.scatter(data['latitude'], data['longitude'], c=data['n'], \n",
    "            edgecolor='None', s=15, rasterized=True, norm=LogNorm(),\n",
    "            cmap=plt.cm.magma, marker='s'\n",
    "           )\n",
    "plt.xlim(data['latitude'].min(), data['latitude'].max())\n",
    "plt.ylim(data['longitude'].min(), data['longitude'].max())\n",
    "#plt.axis('off');"
   ]
  },
  {
   "cell_type": "markdown",
   "metadata": {},
   "source": [
    "Looks like there is certainly a cluster sitting there. Does Gaia get any good photometry for it's stars?\n",
    "\n",
    "here, we calculate the colour, and absolute magnitude for the stars (using the parallaxes), and bin them (as above). Notice that we select now only stars that have parallax SNR > 5 (this removes stars with negative parallaxes that cause problems with the absolute magnitude calculation - in a robust analysis, we shouldnt remove these stars)."
   ]
  },
  {
   "cell_type": "code",
   "execution_count": null,
   "metadata": {},
   "outputs": [],
   "source": [
    "adql = QueryStr(\"\"\"\n",
    "select \n",
    "    count(*) as n,\n",
    "    floor((gaia.phot_bp_mean_mag - gaia.phot_rp_mean_mag) / 0.01) * 0.01 as color,\n",
    "    floor((gaia.phot_g_mean_mag + 5*log10(gaia.parallax)-10) / 0.05) * 0.05 as mag\n",
    "from \n",
    "    gaiadr2.gaia_source as gaia\n",
    "where \n",
    "    gaia.parallax / gaia.parallax_error >= 5 \n",
    "    AND contains(point('ICRS',gaia.ra,gaia.dec),\n",
    "             circle('ICRS',{ra:f}, {dec:f},0.5) )=1  \n",
    "group by color, mag\n",
    "\"\"\".format(ra=ra, dec=dec))\n",
    "data = timeit(gaia.query_async)(adql).get()"
   ]
  },
  {
   "cell_type": "markdown",
   "metadata": {},
   "source": [
    "Now lets make a CMD of the stars in that region, using a similar method to the on-sky plot above"
   ]
  },
  {
   "cell_type": "code",
   "execution_count": null,
   "metadata": {},
   "outputs": [],
   "source": [
    "plt.scatter(data['color'], data['mag'], c=data['n'], \n",
    "            edgecolor='None', s=1, rasterized=True, norm=LogNorm(),\n",
    "            cmap=plt.cm.magma, marker='o'\n",
    "           )\n",
    "plt.xlim(data['color'].min(), data['color'].max())\n",
    "plt.ylim(data['mag'].max(), data['mag'].min())\n",
    "plt.xlabel(r'$G_{BP}-G_{RP}$')\n",
    "plt.ylabel(r'G + 5 log($\\varpi$) - 10')\n",
    "figrc.hide_axis('top right'.split())"
   ]
  },
  {
   "cell_type": "markdown",
   "metadata": {},
   "source": [
    "Theres quite a bit of noise there - it doesnt look like a nice cluster CMD...\n",
    "\n",
    "luckily - we can do a lot better because Gaia DR2 gives us proper motions for the stars. So, we can select stars in a little box around the cluster's location in proper motion space. Lets just grab the PM's for now:"
   ]
  },
  {
   "cell_type": "code",
   "execution_count": null,
   "metadata": {},
   "outputs": [],
   "source": [
    "adql = QueryStr(\"\"\"\n",
    "select \n",
    "    gaia.phot_bp_mean_mag - gaia.phot_rp_mean_mag as color,\n",
    "    gaia.phot_g_mean_mag + 5*log10(gaia.parallax)-10 as mag,\n",
    "    gaia.pmra as pmra,\n",
    "    gaia.pmdec as pmdec,\n",
    "    gaia.parallax as parallax\n",
    "from \n",
    "    gaiadr2.gaia_source as gaia\n",
    "where \n",
    "    gaia.parallax / gaia.parallax_error >= 5 \n",
    "    AND contains(point('ICRS',gaia.ra,gaia.dec),\n",
    "             circle('ICRS',{ra:f}, {dec:f},0.5) )=1 \n",
    "\"\"\".format(ra=ra, dec=dec))\n",
    "data = timeit(gaia.query_async)(adql).get()"
   ]
  },
  {
   "cell_type": "markdown",
   "metadata": {},
   "source": [
    "And lets just plot pmra vs pmdec and see whats going on there:"
   ]
  },
  {
   "cell_type": "code",
   "execution_count": null,
   "metadata": {},
   "outputs": [],
   "source": [
    "plt.scatter(data['pmra'], data['pmdec'], c=data['parallax'],\n",
    "            edgecolor='None', s=2, rasterized=True,\n",
    "            cmap=plt.cm.magma, marker='o',\n",
    "           vmax = 0.8, vmin=0.)\n",
    "plt.xlim(-30,10)\n",
    "plt.ylim(-30,10)\n",
    "plt.xlabel(r'$\\mu_{\\mathrm{RA}} \\mathrm{[mas.\\ yr^{-1}]}$')\n",
    "plt.ylabel(r'$\\mu_{\\mathrm{Dec.}} \\mathrm{[mas.\\ yr^{-1}]}$')\n",
    "plt.colorbar(label=r'$\\varpi \\mathrm{[mas.]}$')\n",
    "figrc.hide_axis('top right'.split())"
   ]
  },
  {
   "cell_type": "markdown",
   "metadata": {},
   "source": [
    "clearly, the cluster stands out in proper motion space as a clump which is offset from the other stars (which tend to have a mean pmra and pmdec of ~0). So, we can use this to clean out the stars which arent moving with the cluster. The simple way is to just use a box around the central proper motion. So lets just have a go:"
   ]
  },
  {
   "cell_type": "code",
   "execution_count": null,
   "metadata": {},
   "outputs": [],
   "source": [
    "adql = QueryStr(\"\"\"\n",
    "select \n",
    "    gaia.phot_bp_mean_mag - gaia.phot_rp_mean_mag as color,\n",
    "    gaia.phot_g_mean_mag + 5*log10(gaia.parallax)-10 as mag,\n",
    "    gaia.parallax as parallax\n",
    "from \n",
    "    gaiadr2.gaia_source as gaia\n",
    "where \n",
    "    gaia.parallax / gaia.parallax_error >= 5 \n",
    "    AND contains(point('ICRS',gaia.ra,gaia.dec),\n",
    "             circle('ICRS',{ra:f}, {dec:f},0.5) )=1 \n",
    "    AND gaia.pmra < -11.\n",
    "    AND gaia.pmra > -13.\n",
    "    AND gaia.pmdec < -17.0\n",
    "    AND gaia.pmdec > -19.\n",
    "\"\"\".format(ra=ra, dec=dec))\n",
    "data = timeit(gaia.query_async)(adql).get()"
   ]
  },
  {
   "cell_type": "markdown",
   "metadata": {},
   "source": [
    "Now lets try that CMD again. This time, we'll colour by parallax and see if things make sense.."
   ]
  },
  {
   "cell_type": "code",
   "execution_count": null,
   "metadata": {},
   "outputs": [],
   "source": [
    "plt.scatter(data['color'], data['mag'], c=data['parallax'],\n",
    "            edgecolor='None', s=10, rasterized=True,\n",
    "            cmap=plt.cm.magma, marker='o',\n",
    "           vmax = 0.8, vmin=0.)\n",
    "plt.xlim(data['color'].min(), data['color'].max())\n",
    "plt.ylim(data['mag'].max(), data['mag'].min())\n",
    "plt.xlabel(r'$G_{BP}-G_{RP}$')\n",
    "plt.ylabel(r'G + 5 log($\\varpi$) - 10')\n",
    "plt.colorbar(label=r'$\\varpi \\mathrm{[mas.]}$')\n",
    "figrc.hide_axis('top right'.split())"
   ]
  },
  {
   "cell_type": "markdown",
   "metadata": {},
   "source": [
    "Looks pretty good, most of the cluster stars seem to have similar parallaxes... Lets see a distance (1/parallax) histogram:"
   ]
  },
  {
   "cell_type": "code",
   "execution_count": null,
   "metadata": {},
   "outputs": [],
   "source": [
    "plt.hist(1/data['parallax'], bins=20, range=[0.,3.])\n",
    "plt.xlabel(r'$1/\\varpi\\ \\mathrm{[kpc]}$')\n",
    "figrc.hide_axis('top right left'.split())\n",
    "plt.yticks([])"
   ]
  },
  {
   "cell_type": "markdown",
   "metadata": {},
   "source": [
    "given that M4 has been measured to be ~2kpc away this looks pretty good... maybe theres some offset in parallaxes here thats causing some difference...."
   ]
  },
  {
   "cell_type": "markdown",
   "metadata": {
    "nbpresent": {
     "id": "f42ef943-9ee1-4f65-998a-0a3fcd83fb19"
    }
   },
   "source": [
    "# Color-magnitude diagram of TGAS\n",
    "\n",
    "One of the first results published by the Gaia Consortium was the color-magnitude diagram (CMD) of the TGAS data, showing how good the parallaxes are.\n",
    "\n",
    "Let's reproduce the figure.\n",
    "\n",
    "Let's make a binned CMD with bins of $0.01$ mag and $0.05$ mag in color and magnitude, respectively.\n",
    "Additionally, we will need to use the parallax as distance measurements. As [Bailer-Jones 2015](http://adsabs.harvard.edu/abs/2015PASP..127..994B) showed one must be careful, thus let's only consider stars with $\\varpi/\\sigma_\\varpi > 5$. One could also filter on photometric signal-to-noise (in flux)."
   ]
  },
  {
   "cell_type": "code",
   "execution_count": null,
   "metadata": {
    "nbpresent": {
     "id": "32cc03be-be79-4c22-8297-f75b009f58b9"
    }
   },
   "outputs": [],
   "source": [
    "adql = QueryStr(\"\"\"\n",
    "select \n",
    "    count(*) as n,\n",
    "    floor((hip.bt_mag - hip.vt_mag) / 0.01) * 0.01 as color,\n",
    "    floor((gaia.phot_g_mean_mag + 5*log10(gaia.parallax)-10) / 0.05) * 0.05 as mag\n",
    "from \n",
    "    gaiadr1.tgas_source as gaia\n",
    "inner join \n",
    "    public.tycho2 as hip\n",
    "    on gaia.hip = hip.hip\n",
    "where \n",
    "    gaia.parallax / gaia.parallax_error >= 5 \n",
    "    and (2.5/log(10)) * (gaia.phot_g_mean_flux_error / gaia.phot_g_mean_flux) <= 0.05\n",
    "group by color, mag\n",
    "\"\"\")\n",
    "data = timeit(gaia.query)(adql)"
   ]
  },
  {
   "cell_type": "markdown",
   "metadata": {},
   "source": [
    "Plotting the CMD is the only local operation."
   ]
  },
  {
   "cell_type": "code",
   "execution_count": null,
   "metadata": {
    "nbpresent": {
     "id": "12f9a292-5f8f-484a-a6b6-9bb6dbea3fd4"
    }
   },
   "outputs": [],
   "source": [
    "plt.scatter(data['color'], data['mag'], c=data['n'], \n",
    "            edgecolor='None', s=1, rasterized=True, norm=LogNorm(),\n",
    "            cmap=plt.cm.magma, marker='o'\n",
    "           )\n",
    "plt.xlim(data['color'].min(), data['color'].max())\n",
    "plt.ylim(data['mag'].max(), data['mag'].min())\n",
    "plt.xlabel('B-V (Hipparcos)')\n",
    "plt.ylabel(r'G + 5 log($\\varpi$) - 10')\n",
    "figrc.hide_axis('top right'.split())"
   ]
  },
  {
   "cell_type": "markdown",
   "metadata": {},
   "source": [
    "# Making the TGAS sky map (can do this for DR2 but it takes forever!)"
   ]
  },
  {
   "cell_type": "markdown",
   "metadata": {},
   "source": [
    "Now lets use the ADQL commands to make a nice healpix map of TGAS. You can do this for DR2 also, but the query takes quite a bit longer..."
   ]
  },
  {
   "cell_type": "code",
   "execution_count": null,
   "metadata": {},
   "outputs": [],
   "source": [
    "adql = QueryStr(\"\"\"\n",
    "SELECT \n",
    "  gaia_healpix_index(6, source_id) AS healpix_6,\n",
    "  count(*) / 0.83929 as sources_per_sq_deg,\n",
    "  avg(astrometric_n_good_obs_al) AS avg_n_good_al,\n",
    "  avg(astrometric_n_good_obs_ac) AS avg_n_good_ac,\n",
    "  avg(astrometric_n_good_obs_al + astrometric_n_good_obs_ac) AS avg_n_good,\n",
    "  avg(astrometric_excess_noise) as avg_excess_noise\n",
    "FROM gaiadr1.tgas_source\n",
    "GROUP BY healpix_6\n",
    "\"\"\")\n"
   ]
  },
  {
   "cell_type": "code",
   "execution_count": null,
   "metadata": {},
   "outputs": [],
   "source": [
    "data = timeit(gaia.query_async)(adql)"
   ]
  },
  {
   "cell_type": "code",
   "execution_count": null,
   "metadata": {},
   "outputs": [],
   "source": [
    "data = data.get()"
   ]
  },
  {
   "cell_type": "markdown",
   "metadata": {},
   "source": [
    "do some healpy jiggery pokery...."
   ]
  },
  {
   "cell_type": "code",
   "execution_count": null,
   "metadata": {},
   "outputs": [],
   "source": [
    "sortpix = np.argsort(data['healpix_6'])\n",
    "_map = np.arange(healpy.nside2npix(healpy.order2nside(6)))\n",
    "_map[data['healpix_6'][sortpix]] = data['sources_per_sq_deg'][sortpix]"
   ]
  },
  {
   "cell_type": "code",
   "execution_count": null,
   "metadata": {},
   "outputs": [],
   "source": [
    "healpy.visufunc.mollview(_map, max=300,nest=True, cmap=plt.cm.gist_yarg_r, unit=r'sources per sq. deg.')"
   ]
  },
  {
   "cell_type": "markdown",
   "metadata": {
    "collapsed": true
   },
   "source": [
    "# Using DR1 crossmatched catalogs: joining tables"
   ]
  },
  {
   "cell_type": "markdown",
   "metadata": {},
   "source": [
    "Many surveys are already crossmatched by Gaia DPAC (Data Processing and Analysis Consortium). However the access may not be as trivial for many. It requires to join tables by some `id` values."
   ]
  },
  {
   "cell_type": "markdown",
   "metadata": {},
   "source": [
    "**Getting TGAS and Tycho2 missing Ids**\n",
    "\n",
    "Note the use of `left outer join`, which adds to the left table (here `gaia`) the missing columns when and fills it in whenever possible."
   ]
  },
  {
   "cell_type": "code",
   "execution_count": null,
   "metadata": {},
   "outputs": [],
   "source": [
    "adql = QueryStr(\"\"\"\n",
    "select top 10\n",
    "        gaia.hip, gaia.tycho2_id, gaia.source_id,\n",
    "        tycho2.bt_mag, tycho2.vt_mag, tycho2.e_bt_mag, tycho2.e_vt_mag\n",
    "from \n",
    "        gaiadr1.tgas_source as gaia\n",
    "left outer join\n",
    "        public.tycho2 as tycho2 \n",
    "        on gaia.tycho2_id = tycho2.id\n",
    "\"\"\")\n",
    "timeit(gaia.query)(adql)"
   ]
  },
  {
   "cell_type": "markdown",
   "metadata": {},
   "source": [
    "What happens if you do `inner join` instead?"
   ]
  },
  {
   "cell_type": "code",
   "execution_count": null,
   "metadata": {},
   "outputs": [],
   "source": [
    "adql = QueryStr(\"\"\"\n",
    "select top 10\n",
    "    gaia.hip, gaia.tycho2_id, gaia.source_id,\n",
    "    gaia.ra, gaia.ra_error, gaia.dec, gaia.dec_error, \n",
    "    gaia.parallax, gaia.parallax_error, gaia.pmra, gaia.pmra_error,\n",
    "    gaia.pmdec, gaia.pmdec_error, gaia.ra_dec_corr, gaia.ra_parallax_corr,\n",
    "    gaia.phot_g_n_obs, gaia.phot_g_mean_flux, gaia.phot_g_mean_flux_error,\n",
    "    gaia.phot_g_mean_mag, gaia.phot_variable_flag, gaia.l, gaia.b,\n",
    "    gaia.ecl_lon, gaia.ecl_lat, tycho2.bt_mag, tycho2.vt_mag,\n",
    "    tycho2.e_bt_mag, tycho2.e_vt_mag, \n",
    "    allwise.allwise_oid, allwise.w1mpro,\n",
    "    allwise.w1mpro_error, allwise.w2mpro, allwise.w2mpro_error,\n",
    "    allwise.w3mpro, allwise.w3mpro_error, allwise.w4mpro,\n",
    "    allwise.w4mpro_error, allwise.var_flag, allwise.w1mjd_mean,\n",
    "    allwise.w2mjd_mean, allwise.w3mjd_mean, allwise.w4mjd_mean,\n",
    "    allwise.w1gmag, allwise.w1gmag_error, allwise.w2gmag,\n",
    "    allwise.w2gmag_error, allwise.w3gmag, allwise.w3gmag_error,\n",
    "    allwise.w4gmag, allwise.w4gmag_error,\n",
    "    tmass.tmass_oid, tmass.j_m, tmass.j_msigcom, tmass.h_m, tmass.h_msigcom,\n",
    "    tmass.ks_m, tmass.ks_msigcom\n",
    "from \n",
    "    gaiadr1.tgas_source as gaia\n",
    "left outer join\n",
    "    public.tycho2 as tycho2  \n",
    "    on gaia.tycho2_id = tycho2.id\n",
    "left outer join\n",
    "    gaiadr1.allwise_best_neighbour as allwisexmatch  \n",
    "    on gaia.source_id = allwisexmatch.source_id  \n",
    "left outer join \n",
    "    gaiadr1.allwise_original_valid as allwise \n",
    "    on allwisexmatch.allwise_oid = allwise.allwise_oid  \n",
    "left outer join \n",
    "    gaiadr1.tmass_best_neighbour as tmassxmatch\n",
    "    on gaia.source_id = tmassxmatch.source_id  \n",
    "left outer join\n",
    "    gaiadr1.tmass_original_valid as tmass  \n",
    "    on tmassxmatch.tmass_oid = tmass.tmass_oid\n",
    "\"\"\")\n",
    "data = timeit(gaia.query)(adql)"
   ]
  },
  {
   "cell_type": "markdown",
   "metadata": {},
   "source": [
    "# Example"
   ]
  },
  {
   "cell_type": "markdown",
   "metadata": {},
   "source": [
    "This example is from C. A. L. Bailer-Jones \n",
    "\n",
    "TGAS apparently has the nasty property that it does not report both Hipparcos and Tycho-2 Id at the same time but only one of the 2. However, when you need/want to have both, this starts to get a little bit tricky. \n",
    "\n",
    "Additionally CBJ wanted to do some selections on the parallax and proper motion for updating his stellar encounter study.\n",
    "\n",
    "Below we select the various `id` values but fill the Tycho-2 ids for Hipparcos stars when available in the Tycho-2 data. Moreover, CBJ wants to filter stars based on their motion:\n",
    "\n",
    "\\begin{equation}\n",
    "\\frac{1000 \\cdot 4.74047 \\cdot \\sqrt{\\mu_\\alpha^2 + \\mu_\\delta^2} / \\varpi^2}{\n",
    "\\sqrt{ (\\mu_\\alpha^2 + \\mu_\\delta^2) \\cdot (4.74047/\\varpi)^2 + 500^2}\n",
    "} < 10    \n",
    "\\end{equation}\n",
    "\n",
    "where $4.74047$ is the equivalent of $1$ AU/yr in km/s and a radial velocity $R_V=500$ km/s."
   ]
  },
  {
   "cell_type": "code",
   "execution_count": null,
   "metadata": {},
   "outputs": [],
   "source": [
    "adql = QueryStr(\"\"\"\n",
    "select \n",
    "    tgas.tycho2_id, tycho2.id, tgas.source_id, tgas.phot_g_mean_mag,\n",
    "    tgas.ra, tgas.dec, tgas.parallax, tgas.pmra, tgas.pmdec, tgas.ra_error,\n",
    "    tgas.dec_error, tgas.parallax_error, tgas.pmra_error, tgas.pmdec_error,\n",
    "    tgas.ra_dec_corr, tgas.ra_parallax_corr, tgas.ra_pmra_corr,\n",
    "    tgas.ra_pmdec_corr, tgas.dec_parallax_corr, tgas.dec_pmra_corr,\n",
    "    tgas.dec_pmdec_corr, tgas.parallax_pmra_corr, tgas.parallax_pmdec_corr,\n",
    "    tgas.pmra_pmdec_corr\n",
    "from \n",
    "    gaiadr1.tgas_source as tgas\n",
    "left outer join \n",
    "    public.tycho2 as tycho2\n",
    "    on tgas.hip = tycho2.hip\n",
    "where ( (\n",
    "            1000 * 4.74047 * sqrt(power(tgas.pmra, 2) \n",
    "            + power(tgas.pmdec, 2)) / power(tgas.parallax, 2)\n",
    "         ) /\n",
    "         ( sqrt(\n",
    "                (power(tgas.pmra, 2) \n",
    "                + power(tgas.pmdec, 2)) * power(4.74047 / tgas.parallax, 2)\n",
    "                + power(500, 2) ) )\n",
    "        ) < 10\n",
    "\"\"\")\n",
    "data = timeit(gaia.query)(adql)"
   ]
  },
  {
   "cell_type": "code",
   "execution_count": null,
   "metadata": {},
   "outputs": [],
   "source": [
    "data"
   ]
  },
  {
   "cell_type": "code",
   "execution_count": null,
   "metadata": {},
   "outputs": [],
   "source": [
    "adql = QueryStr(\"\"\"\n",
    "select \n",
    "    tgas.tycho2_id, tycho2.id, tgas.source_id, tgas.phot_g_mean_mag,\n",
    "    tgas.ra, tgas.dec, tgas.parallax, tgas.pmra, tgas.pmdec, tgas.ra_error,\n",
    "    tgas.dec_error, tgas.parallax_error, tgas.pmra_error, tgas.pmdec_error,\n",
    "    tgas.ra_dec_corr, tgas.ra_parallax_corr, tgas.ra_pmra_corr,\n",
    "    tgas.ra_pmdec_corr, tgas.dec_parallax_corr, tgas.dec_pmra_corr,\n",
    "    tgas.dec_pmdec_corr, tgas.parallax_pmra_corr, tgas.parallax_pmdec_corr,\n",
    "    tgas.pmra_pmdec_corr\n",
    "from \n",
    "    gaiadr1.tgas_source as tgas\n",
    "left outer join \n",
    "    public.tycho2 as tycho2\n",
    "    on tgas.hip = tycho2.hip\n",
    "where ( (\n",
    "            1000 * 4.74047 * sqrt(power(tgas.pmra, 2) \n",
    "            + power(tgas.pmdec, 2)) / power(tgas.parallax, 2)\n",
    "         ) /\n",
    "         ( sqrt(\n",
    "                (power(tgas.pmra, 2) \n",
    "                + power(tgas.pmdec, 2)) * power(4.74047 / tgas.parallax, 2)\n",
    "                + power(500, 2) ) )\n",
    "        ) < 10\n",
    "\"\"\")\n",
    "gaia.query_async(adql).get()"
   ]
  },
  {
   "cell_type": "markdown",
   "metadata": {},
   "source": [
    "As you can see **this does not return the same number of entries but many more than the `sync` mode.**\n",
    "\n",
    "This can be for many reasons (esp. a bug of the service) but it could be that one of the `sync` mode limits was reached. Most likely the 1min time limit, but the reported time is still under that..."
   ]
  },
  {
   "cell_type": "markdown",
   "metadata": {
    "nbpresent": {
     "id": "870d7693-88fd-49ed-a1e6-442c7dedf3b6"
    }
   },
   "source": [
    "# Testing TAPVizieR\n",
    "\n",
    "The VizieR ADQL service (http://tapvizier.u-strasbg.fr/) a service is hosted by the CDS - Strasbourg allows access to any VizieR table and catalog. The same operations are provided through the ADQL protocols. \n",
    "\n",
    "Below I reproduce all examples using the TAPVizieR Service.\n",
    "\n",
    "**Important note**: column and table names in Vizier are not identical to the Gaia Archive ones"
   ]
  },
  {
   "cell_type": "markdown",
   "metadata": {},
   "source": [
    "**Testing interface**"
   ]
  },
  {
   "cell_type": "code",
   "execution_count": null,
   "metadata": {
    "nbpresent": {
     "id": "91775092-ad6d-4adf-9874-2a9fa254a681"
    }
   },
   "outputs": [],
   "source": [
    "adql = QueryStr(\"\"\"\n",
    "select top 100\n",
    "    gaia.source_id, gaia.hip,\n",
    "    gaia.phot_g_mean_mag+5*log10(gaia.parallax)-10 as g_mag_abs_gaia,\n",
    "    gaia.phot_g_mean_mag+5*log10(hip.plx)-10 as g_mag_abs_hip,\n",
    "    hip.\"B-V\"\n",
    "from \n",
    "    \"I/337/tgas\" as gaia\n",
    "inner join \n",
    "    \"I/311/hip2\" as hip\n",
    "    on gaia.hip = hip.HIP\n",
    "where\n",
    "    gaia.parallax/gaia.parallax_error >= 5 \n",
    "    and hip.Plx/hip.e_Plx >= 5 \n",
    "    and hip.\"e_B-V\" > 0.0 and hip.\"e_B-V\" <= 0.05 \n",
    "    and (2.5/log(10))*(gaia.phot_g_mean_flux_error/gaia.phot_g_mean_flux) <= 0.05\n",
    "\"\"\")\n",
    "\n",
    "vizier = TAPVizieR()\n",
    "result = timeit(vizier.query)(adql)\n",
    "result"
   ]
  },
  {
   "cell_type": "markdown",
   "metadata": {},
   "source": [
    "**TGAS Luminosity function**"
   ]
  },
  {
   "cell_type": "code",
   "execution_count": null,
   "metadata": {},
   "outputs": [],
   "source": [
    "adql = QueryStr(\"\"\"\n",
    "select \n",
    "    count(*) as n, \n",
    "    round(gaia.phot_g_mean_mag, 1) as val\n",
    "from \n",
    "    \"I/337/tgas\" as gaia\n",
    "group by val\n",
    "order by val\n",
    "\"\"\")\n",
    "data_tgas = timeit(vizier.query)(adql)\n",
    "\n",
    "# Apparently some parsing issues in TAPVizieR...\n",
    "n = [int(k) for k in data_tgas['n']]\n",
    "vals = [float(k) for k in data_tgas['val']]\n",
    "#\n",
    "plt.step(vals, n, lw=2, where='pre', label='TGAS')\n",
    "plt.yscale('log')\n",
    "plt.xlabel('G magnitude')\n",
    "plt.ylabel('counts / mag')\n",
    "figrc.hide_axis('top right'.split())"
   ]
  },
  {
   "cell_type": "markdown",
   "metadata": {},
   "source": [
    "**TGAS density map in l,b coordinates**"
   ]
  },
  {
   "cell_type": "code",
   "execution_count": null,
   "metadata": {},
   "outputs": [],
   "source": [
    "adql = QueryStr(\"\"\"\n",
    "select \n",
    "    count(*) as n, \n",
    "    round(glon, 0) as x, \n",
    "    round(glat, 0) as y\n",
    "from \n",
    "    \"I/337/tgas\"\n",
    "group by x, y\n",
    "order by x, y\n",
    "\"\"\")\n",
    "data = timeit(vizier.query)(adql)\n",
    "\n",
    "from matplotlib.colors import LogNorm\n",
    "dx = [float(k) for k in data['x']]\n",
    "dy = [float(k) for k in data['y']]\n",
    "dn = [int(k) for k in data['n']]\n",
    "l = np.arange(0, 360, 1)\n",
    "b = np.arange(-90, 90, 1)\n",
    "n = np.zeros((len(l), len(b)))\n",
    "ix = np.digitize(dx, l)\n",
    "iy = np.digitize(dy, b)\n",
    "n[ix - 1, iy - 1] = dn\n",
    "plt.pcolormesh(l, b, n.T, \n",
    "               cmap=plt.cm.viridis, \n",
    "               norm=LogNorm())\n",
    "figrc.hide_axis('top right'.split())\n",
    "plt.xlim(l.min(), l.max())\n",
    "plt.ylim(b.min(), b.max());"
   ]
  },
  {
   "cell_type": "markdown",
   "metadata": {},
   "source": [
    "**M31 cone-search**"
   ]
  },
  {
   "cell_type": "code",
   "execution_count": null,
   "metadata": {},
   "outputs": [],
   "source": [
    "adql = QueryStr(\"\"\"\n",
    "select\n",
    "    count(*) as n, \n",
    "    round(ra, 2) as latitude, \n",
    "    round(dec, 2) as longitude\n",
    "from \n",
    "    \"I/337/gaia\"\n",
    "where \n",
    "    contains(point('ICRS', ra, dec),\n",
    "             circle('ICRS',10.6847083,41.26875,2) )=1  \n",
    "group by latitude, longitude\n",
    "order by latitude, longitude\n",
    "\"\"\")\n",
    "data = timeit(vizier.query)(adql)\n",
    "\n",
    "lat = [float(k) for k in data['latitude']]\n",
    "lon = [float(k) for k in data['longitude']]\n",
    "n = [int(k) for k in data['n']]\n",
    "\n",
    "plt.figure(figsize=(6,6))\n",
    "plt.subplot(111, aspect=1)\n",
    "plt.scatter(lat, lon, c=n,\n",
    "            edgecolor='None', s=6, rasterized=True, norm=LogNorm(),\n",
    "            cmap=plt.cm.magma, marker='s'\n",
    "           )\n",
    "plt.xlim(min(lat), max(lat))\n",
    "plt.ylim(min(lon), max(lon))\n",
    "plt.axis('off');\n",
    "plt.axis('equal')"
   ]
  },
  {
   "cell_type": "markdown",
   "metadata": {},
   "source": [
    "**M33 cone search**"
   ]
  },
  {
   "cell_type": "code",
   "execution_count": null,
   "metadata": {},
   "outputs": [],
   "source": [
    "adql = QueryStr(\"\"\"\n",
    "select \n",
    "    count(*) as n, \n",
    "    round(ra, 2) as latitude, \n",
    "    round(dec, 2) as longitude\n",
    "from \n",
    "    gaiadr1.gaia_source \n",
    "where \n",
    "    contains(point('ICRS', ra, dec),\n",
    "             circle('ICRS',23.4621,30.6599417,0.5) )=1  \n",
    "group by latitude, longitude\n",
    "order by latitude, longitude\n",
    "\"\"\")\n",
    "data = timeit(gaia.query)(adql)\n",
    "\n",
    "lat = [float(k) for k in data['latitude']]\n",
    "lon = [float(k) for k in data['longitude']]\n",
    "n = [int(k) for k in data['n']]\n",
    "\n",
    "plt.figure(figsize=(6,6))\n",
    "plt.subplot(111, aspect=1)\n",
    "plt.scatter(lat, lon, c=n,\n",
    "            edgecolor='None', s=9, rasterized=True, norm=LogNorm(),\n",
    "            cmap=plt.cm.magma, marker='s'\n",
    "           )\n",
    "plt.xlim(min(lat), max(lat))\n",
    "plt.ylim(min(lon), max(lon))\n",
    "plt.axis('off');"
   ]
  },
  {
   "cell_type": "markdown",
   "metadata": {},
   "source": [
    "**TGAS CMD**"
   ]
  },
  {
   "cell_type": "code",
   "execution_count": null,
   "metadata": {},
   "outputs": [],
   "source": [
    "adql = QueryStr(\"\"\"\n",
    "select\n",
    "    count(*) as n,\n",
    "    floor((hip.\"B-V\") / 0.01) * 0.01 as color,\n",
    "    floor((gaia.phot_g_mean_mag + 5*log10(gaia.parallax)-10) / 0.05) * 0.05 as mag\n",
    "from \n",
    "    \"I/337/tgas\" as gaia\n",
    "inner join \n",
    "    \"I/311/hip2\" as hip\n",
    "    on gaia.hip = hip.HIP\n",
    "where\n",
    "    gaia.parallax/gaia.parallax_error >= 5 \n",
    "    and hip.\"e_B-V\" > 0.0 and hip.\"e_B-V\" <= 0.05 \n",
    "    and hip.Plx/hip.e_Plx >= 5 \n",
    "    and (2.5/log(10))*(gaia.phot_g_mean_flux_error/gaia.phot_g_mean_flux) <= 0.05\n",
    "group by color, mag\n",
    "\"\"\")\n",
    "data = timeit(vizier.query)(adql)\n",
    "color = [float(k) for k in data['color']]\n",
    "mag = [float(k) for k in data['mag']]\n",
    "n = [int(k) for k in data['n']]\n",
    "plt.scatter(color, mag, c=n, \n",
    "            edgecolor='None', s=2, rasterized=True, norm=LogNorm(),\n",
    "            cmap=plt.cm.magma, marker='s'\n",
    "           )\n",
    "plt.xlim(min(color), max(color))\n",
    "plt.ylim(max(mag), min(mag))\n",
    "plt.xlabel('B-V (Hipparcos)')\n",
    "plt.ylabel(r'G + 5 log($\\varpi$) - 10')\n",
    "figrc.hide_axis('top right'.split())"
   ]
  },
  {
   "cell_type": "markdown",
   "metadata": {},
   "source": [
    "# Other example\n",
    "\n",
    "Based on [Watkins et al 2016.](https://arxiv.org/abs/1611.03170)\n",
    "\n",
    "**Paper Abstract**\n",
    "They perform a systematic search for Galactic globular cluster (GC) stars in the *Tycho-Gaia Astrometric Solution*\n",
    "(TGAS) catalog that formed part of Gaia Data Release 1 (DR1), and identify 5 members of *NGC 104* (47 Tucanae), 1 member of *NGC 5272* (M 3), 5 members of *NGC 6121* (M 4), 7 members of *NGC 6397*, and 2 members of *NGC 6656* (M 22). \n",
    "\n",
    "By taking a weighted average of the member stars, fully **accounting for the correlations between parameter estimates**, **they estimate the parallax (and, hence, distance) and proper motion (PM) of the GCs**. This provides a homogeneous PM study of multiple GCs based on an astrometric catalogue with small and well-controlled systematic errors, and yields random PM errors that are similar to existing measurements. Detailed comparison to the available Hubble Space Telescope (HST) measurements generally shows excellent agreement, validating the astrometric quality of both TGAS and HST. \n",
    "\n",
    "By contrast, comparison to ground-based measurements shows that some of those must have systematic errors exceeding the random errors. Our parallax estimates have uncertainties an order of magnitude larger than previous studies, but nevertheless imply distances consistent with previous estimates. By combining our PM measurements with literature positions, distances and radial velocities, we measure Galactocentric space motions for the clusters and find that these are also in good agreement with previous orbital analyses. \n",
    "\n",
    "Our results highlight the future promise of Gaia for the determining accurate distances and PMs of Galactic GCs, which will provide crucial constraints on the near end of the cosmic distance ladder, and provide accurate GC orbital histories.\n",
    "\n",
    "\n",
    "**method**\n",
    "For each cluster, they calculate the likelihood of each nearby stars of being a cluster member by decomposing this likelihood into a positional part $L_{\\alpha\\delta,i}$ and a motion part $L_{\\varpi\\mu,i}$. \n",
    "\n",
    "On the one hand, stars close to the cluster centre of the cluster are more likely to be members than stars near to the $2\\,R_{tidal}$ boundary, so we also calculate the likelihood of a star $i$ with coordinates $(\\alpha_i, \\delta_i)$ being a member of the GC with centre $(\\alpha_{GC}, \\delta_{GC})$ as,\n",
    "\n",
    "\\begin{eqnarray}\n",
    "L_{\\alpha\\delta,i} &=& p(\\alpha_i, \\delta_i | \\alpha_{GC}, \\delta_{GC}, \\sigma)\n",
    "&=& \\exp\\left[-\\frac{1}{2\\sigma^2} \\left((\\alpha_i - \\alpha_{GC})^2 + (\\delta_i - \\delta_{GC})^2\\right) \\right].\n",
    "\\end{eqnarray}\n",
    "\n",
    "where they use $\\sigma = \\frac{1}{2} R_{tidal}$ to account for the approximate extent of the cluster. **The uncertainties on the cluster centre coordinates and on the positions of the stars are negligible compared to the extent of the cluster, so we neglect the measurement errors in this calculation.**\n",
    "\n",
    "On the other hand, for a star $i$ with parallax  and PM measurements $m_i = (\\varpi, \\mu_\\alpha, \\mu_\\delta)$, and covariance $C_i$, they ask what is the likelihood $L_{\\varpi\\mu,i}$ that this star is a member of a GC with measurements $m_{GC}$ and covariance $C_{GC}$,\n",
    "\n",
    "\\begin{eqnarray}\n",
    "L_{\\varpi\\mu,i} &=& p(m_i | C_i, m_{GC}, C_{GC})\\\\\n",
    "&=& \\frac{1}{\n",
    "\\left[(2\\pi)^3   |\\det(C_{i} + C_{GC})|\\right]^{1/2}}\\,\\exp\\left[-\\frac{1}{2} (m_i - m_{GC})^T \\cdot (C_{i} + C_{GC})^{-1} \\cdot (m_i - m_{GC}) \\right].\n",
    "\\end{eqnarray}\n",
    "The above is a standard 3-dimensional Gaussian. \n",
    "\n",
    "To construct the GC covariance matrix $C_{GC}$, they assume that the errors are uncorrelated, so the diagonal terms are the squared uncertainties on the parallax and PM measurements and the off-diagonal elements are zero. \n",
    "They further add the GC velocity dispersion (H96) in quadrature to the PM terms to account for the expected spread in velocities.\n",
    "\\begin{eqnarray}\n",
    "C_{GC} = \\left[\\begin{matrix}\n",
    " \\sigma^2_\\varpi & 0  & 0\\\\ \n",
    " 0 & \\mu^2_\\alpha + \\sigma^2_v  & 0 \\\\ \n",
    " 0 & 0 & \\mu^2_\\delta + \\sigma^2_v\n",
    "\\end{matrix}\\right]\n",
    "\\end{eqnarray}\n",
    "\n",
    "additionally, (they do not explain but worth mentioning) the covariance matrix for the stars $C_i$ is given by\n",
    "\\begin{eqnarray}\n",
    "C_{i} = \\left[\\begin{matrix}\n",
    " \\sigma^2_\\varpi & \\rho_{\\varpi,\\mu\\alpha}\\sigma_\\varpi\\sigma_{\\mu\\alpha}  & \\rho_{\\varpi,\\mu\\delta}\\sigma_\\varpi\\sigma_{\\mu\\delta}\\\\ \n",
    " \\rho_{\\varpi,\\mu\\alpha}\\sigma_\\varpi\\sigma_{\\mu\\alpha} & \\sigma^2_{\\mu,\\alpha}  & \\rho_{\\mu\\alpha,\\mu\\delta}\\sigma_{\\mu,\\alpha}\\sigma_{\\mu,\\delta} \\\\ \n",
    " \\rho_{\\varpi,\\mu\\delta}\\sigma_\\varpi\\sigma_{\\mu\\delta} & \\rho_{\\mu\\alpha,\\mu\\delta}\\sigma_{\\mu,\\alpha}\\sigma_{\\mu,\\delta} & \\sigma^2_{\\mu,\\delta}\n",
    "\\end{matrix}\\right]\n",
    "\\end{eqnarray}\n",
    "\n",
    "Finally, they compute the full likelihood as the product of the two pieces, $L_i =  L_{\\varpi\\mu,i} \\cdot L_{\\alpha\\delta,i}$ and they keep all stars with $\\ln L_i > −11$ as possible cluster members."
   ]
  },
  {
   "cell_type": "markdown",
   "metadata": {},
   "source": [
    "|Cluster   | $\\alpha$ | $\\delta$ | $c$  | $R_{\\rm core}$ | $R_{\\rm tidal}$ | $D$   | $\\mu_\\alpha$           | $\\mu_\\delta$           | $E$(B-V) | [Fe/H] | $v_{\\rm r}$     | $\\sigma_{v}$   |\n",
    "|----------|----------|----------|------|----------------|-----------------|-------|------------------|------------------|----------|--------|-----------------|----------------|\n",
    "|          | (deg)    | (deg)    |      | (arcmin)       | (arcmin)        | (kpc) | (mas/yr)         | (mas/yr)         |          | (dex)  | (km/s)          | (km/s)         |\n",
    "|NGC 104  | 6.02     | -72.08   | 2.07 | 0.360          | 42.296          | 4.5   | 5.63 $\\pm$ 0.21  | -2.73 $\\pm$ 0.29 | 0.04     | -0.72  | -18.0 $\\pm$ 0.1 | 11.0 $\\pm$ 0.3 |\n",
    "|NGC 288  | 13.19    | -26.58   | 0.99 | 1.350          | 13.193          | 8.9   | 4.67 $\\pm$ 0.22  | -5.60 $\\pm$ 0.35 | 0.03     | -1.32  | -45.4 $\\pm$ 0.2 | 2.9 $\\pm$ 0.3  |\n",
    "|NGC 3201 | 154.40   | -46.41   | 1.29 | 1.300          | 25.348          | 4.9   | 5.28 $\\pm$ 0.32  | -0.98 $\\pm$ 0.33 | 0.24     | -1.59  | 494.0 $\\pm$ 0.2 | 5.0 $\\pm$ 0.2  |\n",
    "|NGC 4372 | 186.44   | -72.66   | 1.30 | 1.750          | 34.917          | 5.8   | -6.49 $\\pm$ 0.33 | 3.71 $\\pm$ 0.32  | 0.39     | -2.17  | 72.3 $\\pm$ 1.2  | $\\dots$        |\n",
    "|NGC 4590 | 189.87   | -26.74   | 1.41 | 0.580          | 14.908          | 10.3  | -3.76 $\\pm$ 0.66 | 1.79 $\\pm$ 0.62  | 0.05     | -2.23  | -94.7 $\\pm$ 0.2 | 2.5 $\\pm$ 0.4  |\n",
    "|NGC 4833 | 194.89   | -70.88   | 1.25 | 1.000          | 17.783          | 6.6   | -8.11 $\\pm$ 0.35 | -0.96 $\\pm$ 0.34 | 0.32     | -1.85  | 200.2 $\\pm$ 1.2 | $\\dots$        |\n"
   ]
  },
  {
   "cell_type": "markdown",
   "metadata": {},
   "source": [
    "**A bit of code**\n",
    "\n",
    "First, one can surely code the position likelihood in ADQL, which will also allow us to filter already stars that are too far to be member candidates.\n",
    "\n",
    "Second, one can potentially implement the other likelihood, but it requires to code the dot-product and matrix inversion manually. This is feasible as we only manipulate 3x3 matrices. But let just not complicate our task, we will still download some data afterall. We can however compute as much as possible on the server side.\n",
    "\n",
    "The query below shows how to implement for instance the computation of the covariance matrices and its determinant on top of the rest."
   ]
  },
  {
   "cell_type": "code",
   "execution_count": null,
   "metadata": {},
   "outputs": [],
   "source": [
    "from tap import (GaiaArchive, QueryStr, timeit)\n",
    "\n",
    "def get_tgas_stars(center_ra, center_dec, Rtidal, parallax, parallaxerr, \n",
    "                   mualpha, mualphaerr, mudelta, mudeltaerr, s_v):\n",
    "    \"\"\" (sync)Query the database for a particular position and cluster properties. \n",
    "    \n",
    "    Parameters\n",
    "    ----------\n",
    "    center_ra: float\n",
    "        RA of the cluster center\n",
    "    center_dec: float\n",
    "        Dec of the cluster center\n",
    "    Rtidal: float\n",
    "        tidal radius of the cluster (in degrees)\n",
    "    parallax: float\n",
    "        mean parallax of the cluster in mas (1 mas <-> 1kpc)\n",
    "    parallaxerr: float\n",
    "        uncertainty on the cluster parallax\n",
    "    mualpha: float\n",
    "        mean proper motion of the cluster along RA (in mas/yr)\n",
    "    mualphaerr: float\n",
    "        mean proper motion uncertainty of the cluster along RA (in mas/yr)\n",
    "    mudelta: float\n",
    "        mean proper motion of the cluster along Dec (in mas/yr)\n",
    "    mudeltaerr: float\n",
    "        mean proper motion uncertainty of the cluster along Dec (in mas/yr)\n",
    "    s_v: float\n",
    "        internal velocity dispersion\n",
    "    \n",
    "    Returns\n",
    "    -------\n",
    "    data: Table\n",
    "        entries from the query\n",
    "    \"\"\"\n",
    "    adql = QueryStr(\"\"\"\n",
    "    select *, \n",
    "        q.a * (q.d * q.f - q.e * q.e) - q.b * (q.b * q.f - q.c * q.e) + q.c * q.e * (q.b - q.c) as det_pm_cov\n",
    "    from (\n",
    "        select \n",
    "            gaia.source_id, gaia.ra, gaia.dec, gaia.parallax, gaia.pmra, gaia.pmdec,\n",
    "            gaia.phot_g_mean_mag as G_mag, tycho2.bt_mag, tycho2.vt_mag, parallax_error,\n",
    "            pmra_error, pmdec_error, pmra_pmdec_corr, parallax_pmra_corr, parallax_pmdec_corr,\n",
    "            (-0.5 / power({Rtidal:f},2) * (power({center_ra:+f} - gaia.ra , 2) + power({center_dec:+f}-gaia.dec, 2))) as lnl_alpha_delta,\n",
    "            (-0.5 / power({Rtidal:f},2) * distance(point('icrs', gaia.ra, gaia.dec), point('icrs', {center_ra:+f}, {center_dec:+f}))) as lnl_alpha_delta2,\n",
    "            power({s_gcparallax:f}, 2) + power(gaia.parallax_error, 2) as a,\n",
    "            gaia.parallax_pmra_corr * gaia.parallax_error * gaia.pmra_error as b,\n",
    "            gaia.parallax_pmdec_corr * gaia.parallax_error * gaia.pmdec_error as c,\n",
    "            power({s_gcmualpha:f},2) + power({s_gcv:f}, 2) + power(gaia.pmra_error, 2) as d,\n",
    "            gaia.pmra_pmdec_corr * gaia.pmra_error * gaia.pmdec_error as e,\n",
    "            power({s_gcmudelta:f},2) + power({s_gcv:f}, 2) + power(gaia.pmdec_error, 2) as f,\n",
    "            (gaia.parallax - {gc_parallax:f}) as delta_parallax,\n",
    "            (gaia.pmra + (-1) * {gc_pmra:f}) as delta_pmalpha,\n",
    "            (gaia.pmdec + (-1) * {gc_pmdec:f}) as delta_pmdec\n",
    "        from \n",
    "            gaiadr1.tgas_source as gaia\n",
    "        inner join \n",
    "            public.tycho2 as tycho2\n",
    "            on gaia.tycho2_id = tycho2.id\n",
    "        where \n",
    "            contains(point('ICRS', gaia.ra, gaia.dec),\n",
    "                     circle('ICRS',{center_ra:f}, {center_dec:f}, {size:f}) )=1 \n",
    "        ) as q\n",
    "\"\"\".format(center_ra=center_ra, center_dec=center_dec, Rtidal=Rtidal, size=3 * Rtidal,\n",
    "           gc_parallax=parallax, gc_pmra=mualpha, gc_pmdec=mudelta, \n",
    "           s_gcparallax=parallaxerr, s_gcmualpha=mualphaerr, s_gcmudelta=mudeltaerr, s_gcv=s_v\n",
    "           ))\n",
    "    gaia = GaiaArchive()\n",
    "    return timeit(gaia.query)(adql)\n",
    "\n",
    "def get_gaia_density(center_ra, center_dec, size):\n",
    "    \"\"\" Query the database and produce a density map from the full DR1 catalog \"\"\"\n",
    "    adql = QueryStr(\"\"\"\n",
    "select \n",
    "    count(*) as n, \n",
    "    round(ra, 2) as latitude, \n",
    "    round(dec, 2) as longitude\n",
    "from \n",
    "    gaiadr1.gaia_source as gaia\n",
    "where \n",
    "    contains(point('ICRS', gaia.ra, gaia.dec),\n",
    "             circle('ICRS',{0:f}, {1:f}, {2:f}) )=1  \n",
    "group by latitude, longitude\n",
    "order by latitude, longitude\n",
    "\"\"\".format(center_ra, center_dec, size))\n",
    "    gaia = GaiaArchive()\n",
    "    return timeit(gaia.query)(adql)"
   ]
  },
  {
   "cell_type": "markdown",
   "metadata": {},
   "source": [
    "Below I code the second likelihood in python for convenience."
   ]
  },
  {
   "cell_type": "code",
   "execution_count": null,
   "metadata": {},
   "outputs": [],
   "source": [
    "def add_lnl_mu(recs):\n",
    "    \"\"\" Adding the motion likelihood and final likelihood values \"\"\"\n",
    "    lnl_mu = np.zeros(len(recs), dtype=float)\n",
    "    for k, data in enumerate(recs):\n",
    "        a = data['a'] \n",
    "        b = data['b']\n",
    "        c = data['c']\n",
    "        d = data['d']\n",
    "        e = data['e']\n",
    "        f = data['f']\n",
    "      \n",
    "        cov = np.array(((a, b, c),\n",
    "                        (b, d, e),\n",
    "                        (c, e, f)))\n",
    "        invcov = np.linalg.inv(cov)\n",
    "        det_cov = np.linalg.det(2 * np.pi * invcov)\n",
    "        m = np.array((data['delta_parallax'], data['delta_pmalpha'], data['delta_pmdec']))\n",
    "        lnl_mu[k] = - 0.5 * np.log(abs(det_cov)) - 0.5 * m.T @ (invcov @ m)\n",
    "    from astropy.table import Column\n",
    "    if 'lnl_mu' in ngc104.keys():\n",
    "        recs.remove_column('lnl_mu')\n",
    "        recs.remove_column('lnl')\n",
    "        recs.remove_column('lnl2')\n",
    "    recs.add_column(Column(lnl_mu, name='lnl_mu'))    \n",
    "    recs.add_column(Column(recs['lnl_alpha_delta'] + lnl_mu, name='lnl'))\n",
    "    recs.add_column(Column(recs['lnl_alpha_delta2'] + lnl_mu, name='lnl2'))\n",
    "    return recs[np.argsort(recs['lnl'][::-1])]"
   ]
  },
  {
   "cell_type": "markdown",
   "metadata": {},
   "source": [
    "We make also some figures"
   ]
  },
  {
   "cell_type": "code",
   "execution_count": null,
   "metadata": {},
   "outputs": [],
   "source": [
    "def fig_plot(data, ngc104, **kwargs):\n",
    "    \"\"\" Plot some figures \"\"\"\n",
    "    from matplotlib.colors import LogNorm\n",
    "    lat = [float(k) for k in data['latitude']]\n",
    "    lon = [float(k) for k in data['longitude']]\n",
    "    n = [int(k) for k in data['n']]\n",
    "    \n",
    "    members = kwargs.pop(\"members\", None)\n",
    "\n",
    "    plt.figure(figsize=(10,4))\n",
    "    plt.subplot(121)\n",
    "    plt.scatter(lat, lon, c=n,\n",
    "                edgecolor='None', s=12, rasterized=True, norm=LogNorm(),\n",
    "                cmap=plt.cm.magma, marker='s', alpha=0.4\n",
    "               )\n",
    "    plt.plot(ngc104['ra'], ngc104['dec'], 'o', mfc='b', mec='0.8', mew=2)\n",
    "    if members is not None:\n",
    "        plt.plot(members['ra'], members['dec'], 'o', mfc='r', mec='0.8', mew=2)\n",
    "    plt.xlim(min(lat), max(lat))\n",
    "    plt.ylim(min(lon), max(lon))\n",
    "    plt.axis('off');\n",
    "\n",
    "    plt.subplot(122)\n",
    "    plt.plot(ngc104['bt_mag']-ngc104['vt_mag'], ngc104['vt_mag'], 'o')\n",
    "    if members is not None:\n",
    "        plt.plot(members['bt_mag']-members['vt_mag'], members['vt_mag'], 'ro')\n",
    "    plt.ylim(plt.ylim()[::-1])\n",
    "    plt.xlabel('B$_T$ - V$_T$')\n",
    "    plt.ylabel('V$_T$')\n",
    "    figrc.hide_axis('top right'.split())\n",
    "    plt.tight_layout()\n",
    "\n",
    "    plt.figure(figsize=(10, 5))\n",
    "    ax = plt.subplot(221)\n",
    "    plt.plot(ngc104['pmra'], ngc104['parallax'], 'o', **kwargs)\n",
    "    if members is not None:\n",
    "        plt.plot(members['pmra'], members['parallax'], 'ro', **kwargs)\n",
    "    plt.ylabel(r'$\\varpi$ [mas]')\n",
    "    figrc.hide_axis('top right'.split())\n",
    "\n",
    "    ax = plt.subplot(223, sharex=ax)\n",
    "    plt.plot(ngc104['pmra'], ngc104['pmdec'], 'o', **kwargs)\n",
    "    if members is not None:\n",
    "        plt.plot(members['pmra'], members['pmdec'], 'ro', **kwargs)\n",
    "    plt.xlabel(r'$\\mu_\\alpha$ [mas/yr]')\n",
    "    plt.ylabel(r'$\\mu_\\delta$ [mas/yr]')\n",
    "    figrc.hide_axis('top right'.split())\n",
    "\n",
    "    ax = plt.subplot(224, sharey=ax)\n",
    "    plt.plot(ngc104['parallax'], ngc104['pmdec'], 'o', **kwargs)\n",
    "    if members is not None:\n",
    "        plt.plot(members['parallax'], members['pmdec'], 'ro', **kwargs)\n",
    "    plt.xlabel(r'$\\varpi$ [mas]')\n",
    "    figrc.hide_axis('top right'.split())\n",
    "\n",
    "    plt.tight_layout(h_pad=0, w_pad=0)"
   ]
  },
  {
   "cell_type": "markdown",
   "metadata": {},
   "source": [
    "**Let's look at NGC 104, a.k.a. 47 Tuc**"
   ]
  },
  {
   "cell_type": "markdown",
   "metadata": {},
   "source": [
    "We can use the values from the referenced paper to define our cluster properties and run our query."
   ]
  },
  {
   "cell_type": "code",
   "execution_count": null,
   "metadata": {
    "scrolled": false
   },
   "outputs": [],
   "source": [
    "# 1 milliarcsec = 1kpc\n",
    "ra, dec, Rtidal, parallax, parallaxerr, mualpha, mualphaerr, mudelta, mudeltaerr, s_v = (\n",
    "    6.02, -72.08, 0.360, 1. / 4.5, 0, 5.63,  0.21, -2.73, 0.29, 0.0\n",
    ")\n",
    "data = get_gaia_density(ra, dec, 3 * Rtidal)\n",
    "ngc104 = get_tgas_stars(ra, dec, Rtidal, parallax, parallaxerr, mualpha, mualphaerr, mudelta, mudeltaerr, s_v)"
   ]
  },
  {
   "cell_type": "markdown",
   "metadata": {},
   "source": [
    "We also add the second likelihood and final one. Finally we filter stars to keep those with `lnl > 11`."
   ]
  },
  {
   "cell_type": "code",
   "execution_count": null,
   "metadata": {},
   "outputs": [],
   "source": [
    "result = add_lnl_mu(ngc104)\n",
    "fields = ['source_id', 'ra', 'dec', 'parallax', 'lnl_alpha_delta', 'lnl_alpha_delta2', 'lnl_mu', 'lnl', 'lnl2']\n",
    "members = result[result['lnl'] > -11]\n",
    "members.sort('lnl')\n",
    "members[fields][::-1]"
   ]
  },
  {
   "cell_type": "markdown",
   "metadata": {},
   "source": [
    "Interestingly, Watkins et al. claim only 5 candidates for this cluster, and we obtain 8. It would be interesting to understand the differences...\n",
    "\n",
    "They find also stars with `source_id`:\n",
    "* 4689620330317403136\n",
    "* 4690024022888359424\n",
    "* 4689638437899435136\n",
    "* 4689645000616682240\n",
    "* 4689595831823970304\n",
    "\n",
    "but do not find \n",
    "* 4689644416501132800\n",
    "* 4689832845301844352\n",
    "* 4689623594492482176"
   ]
  },
  {
   "cell_type": "markdown",
   "metadata": {},
   "source": [
    "The following figure shows the DR1 density with on top the TGAS stars in blue, and member candidates in red."
   ]
  },
  {
   "cell_type": "code",
   "execution_count": null,
   "metadata": {},
   "outputs": [],
   "source": [
    "fig_plot(data, ngc104, members=members, ms=4, alpha=0.5)"
   ]
  },
  {
   "cell_type": "markdown",
   "metadata": {},
   "source": [
    "**Correcting the distance-based likelihood**"
   ]
  },
  {
   "cell_type": "code",
   "execution_count": null,
   "metadata": {},
   "outputs": [],
   "source": [
    "members = result[result['lnl2'] > -11]\n",
    "members.sort('lnl2')\n",
    "members[fields][::-1]"
   ]
  },
  {
   "cell_type": "code",
   "execution_count": null,
   "metadata": {},
   "outputs": [],
   "source": [
    "fig_plot(data, ngc104, members=members, ms=4, alpha=0.5)"
   ]
  },
  {
   "cell_type": "markdown",
   "metadata": {},
   "source": [
    "The likelihood values based on spherical distance are significantly different from their definition. However, for this particular cluster we do not change the result by correcting their likelihood."
   ]
  },
  {
   "cell_type": "markdown",
   "metadata": {},
   "source": [
    "**A little bit of crazy: make it all in ADQL query **\n",
    "\n",
    "Below I added the calculations of the second likelihood directly in ADQL. Why? Actually just for the fun of it...\n",
    "\n",
    "As you can see, this is (i) tedious for a simple 3x3 matrix only, (ii) not very readable. \n",
    "Of course it gives the same results directly with `lnl` and therefore one can filter directly.\n",
    "\n",
    "But let's be honest, it's faster to download a bit more and finish the calculations locally.\n",
    "\n",
    "This example is mostly to show that one can implement complex variables and if necessary embed one query into another for more complex calculations."
   ]
  },
  {
   "cell_type": "code",
   "execution_count": null,
   "metadata": {},
   "outputs": [],
   "source": [
    "def get_tgas_stars_full(center_ra, center_dec, Rtidal, parallax, parallaxerr, \n",
    "                        mualpha, mualphaerr, mudelta, mudeltaerr, s_v):\n",
    "    \"\"\" (sync)Query the database for a particular position and cluster properties. \n",
    "    \n",
    "    Parameters\n",
    "    ----------\n",
    "    center_ra: float\n",
    "        RA of the cluster center\n",
    "    center_dec: float\n",
    "        Dec of the cluster center\n",
    "    Rtidal: float\n",
    "        tidal radius of the cluster (in degrees)\n",
    "    parallax: float\n",
    "        mean parallax of the cluster in mas (1 mas <-> 1kpc)\n",
    "    parallaxerr: float\n",
    "        uncertainty on the cluster parallax\n",
    "    mualpha: float\n",
    "        mean proper motion of the cluster along RA (in mas/yr)\n",
    "    mualphaerr: float\n",
    "        mean proper motion uncertainty of the cluster along RA (in mas/yr)\n",
    "    mudelta: float\n",
    "        mean proper motion of the cluster along Dec (in mas/yr)\n",
    "    mudeltaerr: float\n",
    "        mean proper motion uncertainty of the cluster along Dec (in mas/yr)\n",
    "    s_v: float\n",
    "        internal velocity dispersion\n",
    "    \n",
    "    Returns\n",
    "    -------\n",
    "    data: Table\n",
    "        entries from the query\n",
    "    \"\"\"\n",
    "    adql = QueryStr(\"\"\"\n",
    "    select \n",
    "        r.source_id, r.ra, r.dec, r.parallax, r.pmra, r.pmdec,\n",
    "        r.G_mag, r.bt_mag, r.vt_mag, r.parallax_error,\n",
    "        r.pmra_error, r.pmdec_error, r.pmra_pmdec_corr, \n",
    "        r.parallax_pmra_corr, r.parallax_pmdec_corr,\n",
    "        r.lnl_alpha_delta, r.lnl_alpha_delta2, r.lnl_mu,\n",
    "        (- 0.5 * log(abs(r.det_pm_cov)) + r.lnl_mu + r.lnl_alpha_delta) as lnl,\n",
    "        (- 0.5 * log(abs(r.det_pm_cov)) + r.lnl_mu + r.lnl_alpha_delta2) as lnl2\n",
    "    from (\n",
    "        select *, \n",
    "            q.a * (q.d * q.f - q.e * q.e) - q.b * (q.b * q.f - q.c * q.e) + q.c * q.e * (q.b - q.c) as det_pm_cov,\n",
    "            -0.5 * (delta_parallax*(delta_parallax*(-(q.a*q.d - power(q.b, 2))*(-q.b*(q.e - q.b*q.c/q.a)/(q.a*(q.d - power(q.b, 2)/q.a)) + q.c/q.a)*(q.b*(q.e - q.b*q.c/q.a)/(q.a*(q.d - power(q.b, 2)/q.a)) - q.c/q.a)/(q.a*q.d*q.f - q.a*power(q.e, 2) - power(q.b, 2)*q.f + 2*q.b*q.c*q.e - power(q.c, 2)*q.d) + 1.0/q.a + power(q.b, 2)/(power(q.a, 2)*(q.d - power(q.b, 2)/q.a))) + delta_pmalpha*((q.e - q.b*q.c/q.a)*(q.a*q.d - power(q.b, 2))*(-q.b*(q.e - q.b*q.c/q.a)/(q.a*(q.d - power(q.b, 2)/q.a)) + q.c/q.a)/((q.d - power(q.b, 2)/q.a)*(q.a*q.d*q.f - q.a*power(q.e, 2) - power(q.b, 2)*q.f + 2*q.b*q.c*q.e - power(q.c, 2)*q.d)) - q.b/(q.a*(q.d - power(q.b, 2)/q.a))) - delta_pmdec*(q.a*q.d - power(q.b, 2))*(-q.b*(q.e - q.b*q.c/q.a)/(q.a*(q.d - power(q.b, 2)/q.a)) + q.c/q.a)/(q.a*q.d*q.f - q.a*power(q.e, 2) - power(q.b, 2)*q.f + 2*q.b*q.c*q.e - power(q.c, 2)*q.d)) + delta_pmalpha*(delta_parallax*(-(q.e - q.b*q.c/q.a)*(q.a*q.d - power(q.b, 2))*(q.b*(q.e - q.b*q.c/q.a)/(q.a*(q.d - power(q.b, 2)/q.a)) - q.c/q.a)/((q.d - power(q.b, 2)/q.a)*(q.a*q.d*q.f - q.a*power(q.e, 2) - power(q.b, 2)*q.f + 2*q.b*q.c*q.e - power(q.c, 2)*q.d)) - q.b/(q.a*(q.d - power(q.b, 2)/q.a))) + delta_pmalpha*(1.0/(q.d - power(q.b, 2)/q.a) + power(q.e - q.b*q.c/q.a, 2)*(q.a*q.d - power(q.b, 2))/(power(q.d - power(q.b, 2)/q.a, 2)*(q.a*q.d*q.f - q.a*power(q.e, 2) - power(q.b, 2)*q.f + 2*q.b*q.c*q.e - power(q.c, 2)*q.d))) - delta_pmdec*(q.e - q.b*q.c/q.a)*(q.a*q.d - power(q.b, 2))/((q.d - power(q.b, 2)/q.a)*(q.a*q.d*q.f - q.a*power(q.e, 2) - power(q.b, 2)*q.f + 2*q.b*q.c*q.e - power(q.c, 2)*q.d))) + delta_pmdec*(delta_parallax*(q.a*q.d - power(q.b, 2))*(q.b*(q.e - q.b*q.c/q.a)/(q.a*(q.d - power(q.b, 2)/q.a)) - q.c/q.a)/(q.a*q.d*q.f - q.a*power(q.e, 2) - power(q.b, 2)*q.f + 2*q.b*q.c*q.e - power(q.c, 2)*q.d) - delta_pmalpha*(q.e - q.b*q.c/q.a)*(q.a*q.d - power(q.b, 2))/((q.d - power(q.b, 2)/q.a)*(q.a*q.d*q.f - q.a*power(q.e, 2) - power(q.b, 2)*q.f + 2*q.b*q.c*q.e - power(q.c, 2)*q.d)) + delta_pmdec*(q.a*q.d - power(q.b, 2))/(q.a*q.d*q.f - q.a*power(q.e, 2) - power(q.b, 2)*q.f + 2*q.b*q.c*q.e - power(q.c, 2)*q.d))) as lnl_mu\n",
    "        from (\n",
    "            select \n",
    "                gaia.source_id, gaia.ra, gaia.dec, gaia.parallax, gaia.pmra, gaia.pmdec,\n",
    "                gaia.phot_g_mean_mag as G_mag, tycho2.bt_mag, tycho2.vt_mag, parallax_error,\n",
    "                pmra_error, pmdec_error, pmra_pmdec_corr, parallax_pmra_corr, parallax_pmdec_corr,\n",
    "                (-0.5 / power({Rtidal:f},2) * (power({center_ra:+f} - gaia.ra , 2) + power({center_dec:+f}-gaia.dec, 2))) as lnl_alpha_delta,\n",
    "                (-0.5 / power({Rtidal:f},2) * distance(point('icrs', gaia.ra, gaia.dec), point('icrs', {center_ra:+f}, {center_dec:+f}))) as lnl_alpha_delta2,\n",
    "                power({s_gcparallax:f}, 2) + power(gaia.parallax_error, 2) as a,\n",
    "                gaia.parallax_pmra_corr * gaia.parallax_error * gaia.pmra_error as b,\n",
    "                gaia.parallax_pmdec_corr * gaia.parallax_error * gaia.pmdec_error as c,\n",
    "                power({s_gcmualpha:f},2) + power({s_gcv:f}, 2) + power(gaia.pmra_error, 2) as d,\n",
    "                gaia.pmra_pmdec_corr * gaia.pmra_error * gaia.pmdec_error as e,\n",
    "                power({s_gcmudelta:f},2) + power({s_gcv:f}, 2) + power(gaia.pmdec_error, 2) as f,\n",
    "                (gaia.parallax - {gc_parallax:f}) as delta_parallax,\n",
    "                (gaia.pmra + (-1) * {gc_pmra:f}) as delta_pmalpha,\n",
    "                (gaia.pmdec + (-1) * {gc_pmdec:f}) as delta_pmdec\n",
    "            from \n",
    "                gaiadr1.tgas_source as gaia\n",
    "            left outer join\n",
    "                public.tycho2 as tycho2\n",
    "                on gaia.tycho2_id = tycho2.id\n",
    "            where \n",
    "                contains(point('ICRS', gaia.ra, gaia.dec),\n",
    "                         circle('ICRS',{center_ra:f}, {center_dec:f}, {size:f}) )=1 \n",
    "            ) as q\n",
    "        ) as r\n",
    "\"\"\".format(center_ra=center_ra, center_dec=center_dec, Rtidal=Rtidal, size=3 * Rtidal,\n",
    "           gc_parallax=parallax, gc_pmra=mualpha, gc_pmdec=mudelta, \n",
    "           s_gcparallax=parallaxerr, s_gcmualpha=mualphaerr, s_gcmudelta=mudeltaerr, s_gcv=s_v\n",
    "           ))\n",
    "    gaia = GaiaArchive()\n",
    "    return timeit(gaia.query)(adql)"
   ]
  },
  {
   "cell_type": "code",
   "execution_count": null,
   "metadata": {},
   "outputs": [],
   "source": [
    "# 1 milliarcsec = 1kpc\n",
    "ra, dec, Rtidal, parallax, parallaxerr, mualpha, mualphaerr, mudelta, mudeltaerr, s_v = (\n",
    "    6.02, -72.08, 0.360, 1. / 4.5, 0, 5.63,  0.21, -2.73, 0.29, 0.0\n",
    ")\n",
    "ngc104 = get_tgas_stars_full(ra, dec, Rtidal, parallax, parallaxerr, \n",
    "                             mualpha, mualphaerr, mudelta, mudeltaerr, \n",
    "                             s_v)"
   ]
  },
  {
   "cell_type": "code",
   "execution_count": null,
   "metadata": {},
   "outputs": [],
   "source": [
    "fields = ['source_id', 'ra', 'dec', 'parallax', 'lnl_alpha_delta', 'lnl_alpha_delta2', 'lnl_mu', 'lnl', 'lnl2']\n",
    "members = result[result['lnl'] > -11]\n",
    "members.sort('lnl')\n",
    "members[fields][::-1]"
   ]
  },
  {
   "cell_type": "code",
   "execution_count": null,
   "metadata": {},
   "outputs": [],
   "source": [
    "fig_plot(data, ngc104, members=members, ms=4, alpha=0.5)"
   ]
  },
  {
   "cell_type": "markdown",
   "metadata": {},
   "source": [
    "**Some comment for the authors of Watkins et al.**\n",
    "\n",
    "* The position likelihood is incorrect. It should be a sherical distance not a cartesian one. This gives more weight on RA than DEC variations.\n",
    "* differences in the number of members come from a bug in their paper table generation (private communication with L. Watkins). Bug apart they add more filtering later on which does not change their conclusions. \n",
    "* They should provide the exact conversion they use to convert $\\sigma_v$, $\\sigma_r$ into their covariance, I am puzzled by the statistical treatment (here I ignore these terms without affecting the results apparently)."
   ]
  },
  {
   "cell_type": "markdown",
   "metadata": {
    "collapsed": true
   },
   "source": [
    "# APOGEE Dust mapping RJCE"
   ]
  },
  {
   "cell_type": "markdown",
   "metadata": {},
   "source": [
    "In this example, I show how to get a quick extinction map by applying the RJCE (Rayley Jeans Color Excess) equation to the DR1 data."
   ]
  },
  {
   "cell_type": "code",
   "execution_count": null,
   "metadata": {},
   "outputs": [],
   "source": [
    "q = gaia.query_async(\"\"\"\n",
    "SELECT\n",
    "    gaia.source_id,\n",
    "    gaia.ra, gaia.dec, gaia.l, gaia.b,\n",
    "    0.918 * (tmass.h_m - allwise.w2mpro - 0.08) as Ak_RJCE\n",
    "FROM \n",
    "    gaiadr1.tgas_source as gaia\n",
    "LEFT OUTER JOIN\n",
    "    gaiadr1.allwise_best_neighbour AS allwisexmatch\n",
    "    ON gaia.source_id = allwisexmatch.source_id\n",
    "LEFT OUTER JOIN\n",
    "    gaiadr1.allwise_original_valid AS allwise\n",
    "    ON allwisexmatch.allwise_oid = allwise.allwise_oid\n",
    "LEFT OUTER JOIN\n",
    "    gaiadr1.tmass_best_neighbour AS tmassxmatch\n",
    "    ON gaia.source_id = tmassxmatch.source_id\n",
    "LEFT OUTER JOIN\n",
    "    gaiadr1.tmass_original_valid AS tmass\n",
    "    ON tmassxmatch.tmass_oid = tmass.tmass_oid\n",
    "\"\"\")\n",
    "q"
   ]
  },
  {
   "cell_type": "code",
   "execution_count": null,
   "metadata": {},
   "outputs": [],
   "source": [
    "q.get()"
   ]
  },
  {
   "cell_type": "code",
   "execution_count": null,
   "metadata": {},
   "outputs": [],
   "source": []
  }
 ],
 "metadata": {
  "anaconda-cloud": {},
  "kernelspec": {
   "display_name": "Python 3",
   "language": "python",
   "name": "python3"
  },
  "language_info": {
   "codemirror_mode": {
    "name": "ipython",
    "version": 3
   },
   "file_extension": ".py",
   "mimetype": "text/x-python",
   "name": "python",
   "nbconvert_exporter": "python",
   "pygments_lexer": "ipython3",
   "version": "3.7.1"
  },
  "latex_envs": {
   "LaTeX_envs_menu_present": true,
   "autocomplete": true,
   "bibliofile": "biblio.bib",
   "cite_by": "apalike",
   "current_citInitial": 1,
   "eqLabelWithNumbers": true,
   "eqNumInitial": 1,
   "hotkeys": {
    "equation": "Ctrl-E",
    "itemize": "Ctrl-I"
   },
   "labels_anchors": false,
   "latex_user_defs": false,
   "report_style_numbering": false,
   "user_envs_cfg": false
  },
  "nbpresent": {
   "slides": {
    "17c03dce-13f4-4040-b1b7-bafcaba5b6df": {
     "id": "17c03dce-13f4-4040-b1b7-bafcaba5b6df",
     "layout": "grid",
     "prev": "d58d2463-9739-47c9-a27d-60e34324849e",
     "regions": {
      "650f5af6-adc7-4ec5-b6c3-bf34c26a9099": {
       "attrs": {
        "height": 0.6666666666666666,
        "pad": 0.01,
        "treemap:weight": 1,
        "width": 1,
        "x": 0.000998003992015968,
        "y": 0.3333333333333333
       },
       "content": {
        "cell": "2889bf72-a613-4be9-9c4b-4233d2ca2281",
        "part": "source"
       },
       "id": "650f5af6-adc7-4ec5-b6c3-bf34c26a9099"
      },
      "8031e749-ecb1-499a-b755-7b1983a37c4c": {
       "attrs": {
        "height": 0.3333333333333333,
        "pad": 0.01,
        "treemap:weight": 1,
        "width": 1,
        "x": 0,
        "y": 0
       },
       "content": {
        "cell": "d3d5b471-cb30-4795-a0a1-0cac930bfbb1",
        "part": "source"
       },
       "id": "8031e749-ecb1-499a-b755-7b1983a37c4c",
       "y": 0
      }
     }
    },
    "3e86888e-1cb8-46cf-8e4c-0e2a8dca8561": {
     "id": "3e86888e-1cb8-46cf-8e4c-0e2a8dca8561",
     "prev": "17c03dce-13f4-4040-b1b7-bafcaba5b6df",
     "regions": {
      "9c35c52a-4000-4be1-ac0d-92e0e04dbbdb": {
       "attrs": {
        "height": 1,
        "width": 1,
        "x": 0,
        "y": 0
       },
       "content": {
        "cell": "c6ffd555-45e2-464b-b6f7-319ab9c93255",
        "part": "source"
       },
       "id": "9c35c52a-4000-4be1-ac0d-92e0e04dbbdb"
      }
     }
    },
    "d58d2463-9739-47c9-a27d-60e34324849e": {
     "id": "d58d2463-9739-47c9-a27d-60e34324849e",
     "prev": null,
     "regions": {
      "28483ea4-a398-40af-b75a-a4f954c82270": {
       "attrs": {
        "height": 1,
        "width": 1,
        "x": 0,
        "y": 0
       },
       "content": {
        "cell": "57cf028f-532b-488d-a0b8-6e9c2da3d668",
        "part": "source"
       },
       "id": "28483ea4-a398-40af-b75a-a4f954c82270"
      }
     }
    },
    "d652a684-8585-46a2-9fb7-28d871ea56ad": {
     "id": "d652a684-8585-46a2-9fb7-28d871ea56ad",
     "prev": "ffd3d7a6-f862-4bfd-b6ce-b963f6789bdc",
     "regions": {
      "290c5c5b-f297-430e-8f4c-ed74d05fb5a7": {
       "attrs": {
        "height": 1,
        "width": 1,
        "x": 0,
        "y": 0
       },
       "content": {
        "cell": "cd80f04a-5a8e-4357-a90d-462455c85363",
        "part": "outputs"
       },
       "id": "290c5c5b-f297-430e-8f4c-ed74d05fb5a7"
      }
     }
    },
    "e8cdb7a2-9a92-4f0e-b314-131489a333fc": {
     "id": "e8cdb7a2-9a92-4f0e-b314-131489a333fc",
     "prev": "d652a684-8585-46a2-9fb7-28d871ea56ad",
     "regions": {
      "1c15b517-ec03-41b8-8f3b-7bc412ff73ee": {
       "attrs": {
        "height": 0.2348229408156274,
        "width": 0.45,
        "x": 0.05,
        "y": 0.1
       },
       "content": {
        "cell": "60d0b275-baab-4827-b8c7-6b2b6148005b",
        "part": "source"
       },
       "id": "1c15b517-ec03-41b8-8f3b-7bc412ff73ee"
      },
      "492b6aa0-c540-471a-be22-b648fdd781b1": {
       "attrs": {
        "height": 0.558527122519379,
        "width": 0.45,
        "x": 0.049196242919624295,
        "y": 0.34538865387219864
       },
       "content": {
        "cell": "992a58fb-1f2c-494c-a3b9-a78b19fc86d9",
        "part": "whole"
       },
       "id": "492b6aa0-c540-471a-be22-b648fdd781b1"
      },
      "9e03c755-b853-42d9-8efe-44422a0a4e11": {
       "attrs": {
        "height": 0.2818122575145591,
        "width": 0.4373012117301211,
        "x": 0.511890729189073,
        "y": 0.10652629398596274
       },
       "content": {
        "cell": "72553e72-8a26-4280-b104-1b6fd148274a",
        "part": "whole"
       },
       "id": "9e03c755-b853-42d9-8efe-44422a0a4e11"
      },
      "c6873b44-6126-4466-8650-8750f667f021": {
       "attrs": {
        "height": 0.48934840626817394,
        "width": 0.434364379436438,
        "x": 0.5148275614827561,
        "y": 0.410651593731826
       },
       "content": {
        "cell": "d6351fd2-af95-49ca-b908-11fd39f6d619",
        "part": "source"
       },
       "id": "c6873b44-6126-4466-8650-8750f667f021"
      }
     }
    },
    "ffd3d7a6-f862-4bfd-b6ce-b963f6789bdc": {
     "id": "ffd3d7a6-f862-4bfd-b6ce-b963f6789bdc",
     "prev": "3e86888e-1cb8-46cf-8e4c-0e2a8dca8561",
     "regions": {
      "29e7befd-c7cc-4afa-9cdc-9ab9d0cc6756": {
       "attrs": {
        "height": 0.21002302366896902,
        "width": 0.8,
        "x": 0.11468416146841615,
        "y": 0.6482086948208695
       },
       "content": {
        "cell": "cd80f04a-5a8e-4357-a90d-462455c85363",
        "part": "source"
       },
       "id": "29e7befd-c7cc-4afa-9cdc-9ab9d0cc6756"
      },
      "9b6659cc-f8e7-4616-a102-aaf62b7bde10": {
       "attrs": {
        "height": 0.5906536650653665,
        "width": 0.9596185559618556,
        "x": 0.02789990678999068,
        "y": 0.011747329174732918
       },
       "content": {
        "cell": "c97cc15e-ccc4-4419-8311-700d0cf8dbb0",
        "part": "source"
       },
       "id": "9b6659cc-f8e7-4616-a102-aaf62b7bde10"
      }
     }
    }
   },
   "themes": {
    "default": "a429de8e-85ad-46c8-a77b-cc98bca38fe4",
    "theme": {
     "2f773174-dd5d-4c4c-891e-8d13a782d869": {
      "backgrounds": {
       "dc7afa04-bf90-40b1-82a5-726e3cff5267": {
        "background-color": "31af15d2-7e15-44c5-ab5e-e04b16a89eff",
        "id": "dc7afa04-bf90-40b1-82a5-726e3cff5267"
       }
      },
      "id": "2f773174-dd5d-4c4c-891e-8d13a782d869",
      "palette": {
       "19cc588f-0593-49c9-9f4b-e4d7cc113b1c": {
        "id": "19cc588f-0593-49c9-9f4b-e4d7cc113b1c",
        "rgb": [
         252,
         252,
         252
        ]
       },
       "31af15d2-7e15-44c5-ab5e-e04b16a89eff": {
        "id": "31af15d2-7e15-44c5-ab5e-e04b16a89eff",
        "rgb": [
         68,
         68,
         68
        ]
       },
       "50f92c45-a630-455b-aec3-788680ec7410": {
        "id": "50f92c45-a630-455b-aec3-788680ec7410",
        "rgb": [
         197,
         226,
         245
        ]
       },
       "c5cc3653-2ee1-402a-aba2-7caae1da4f6c": {
        "id": "c5cc3653-2ee1-402a-aba2-7caae1da4f6c",
        "rgb": [
         43,
         126,
         184
        ]
       },
       "efa7f048-9acb-414c-8b04-a26811511a21": {
        "id": "efa7f048-9acb-414c-8b04-a26811511a21",
        "rgb": [
         25.118061674008803,
         73.60176211453744,
         107.4819383259912
        ]
       }
      },
      "rules": {
       "a": {
        "color": "19cc588f-0593-49c9-9f4b-e4d7cc113b1c"
       },
       "blockquote": {
        "color": "50f92c45-a630-455b-aec3-788680ec7410",
        "font-size": 3
       },
       "code": {
        "font-family": "Anonymous Pro"
       },
       "h1": {
        "color": "19cc588f-0593-49c9-9f4b-e4d7cc113b1c",
        "font-family": "Merriweather",
        "font-size": 8
       },
       "h2": {
        "color": "19cc588f-0593-49c9-9f4b-e4d7cc113b1c",
        "font-family": "Merriweather",
        "font-size": 6
       },
       "h3": {
        "color": "50f92c45-a630-455b-aec3-788680ec7410",
        "font-family": "Lato",
        "font-size": 5.5
       },
       "h4": {
        "color": "c5cc3653-2ee1-402a-aba2-7caae1da4f6c",
        "font-family": "Lato",
        "font-size": 5
       },
       "h5": {
        "font-family": "Lato"
       },
       "h6": {
        "font-family": "Lato"
       },
       "h7": {
        "font-family": "Lato"
       },
       "li": {
        "color": "50f92c45-a630-455b-aec3-788680ec7410",
        "font-size": 3.25
       },
       "pre": {
        "font-family": "Anonymous Pro",
        "font-size": 4
       }
      },
      "text-base": {
       "color": "19cc588f-0593-49c9-9f4b-e4d7cc113b1c",
       "font-family": "Lato",
       "font-size": 4
      }
     },
     "a429de8e-85ad-46c8-a77b-cc98bca38fe4": {
      "id": "a429de8e-85ad-46c8-a77b-cc98bca38fe4",
      "palette": {
       "19cc588f-0593-49c9-9f4b-e4d7cc113b1c": {
        "id": "19cc588f-0593-49c9-9f4b-e4d7cc113b1c",
        "rgb": [
         252,
         252,
         252
        ]
       },
       "31af15d2-7e15-44c5-ab5e-e04b16a89eff": {
        "id": "31af15d2-7e15-44c5-ab5e-e04b16a89eff",
        "rgb": [
         68,
         68,
         68
        ]
       },
       "50f92c45-a630-455b-aec3-788680ec7410": {
        "id": "50f92c45-a630-455b-aec3-788680ec7410",
        "rgb": [
         155,
         177,
         192
        ]
       },
       "c5cc3653-2ee1-402a-aba2-7caae1da4f6c": {
        "id": "c5cc3653-2ee1-402a-aba2-7caae1da4f6c",
        "rgb": [
         43,
         126,
         184
        ]
       },
       "efa7f048-9acb-414c-8b04-a26811511a21": {
        "id": "efa7f048-9acb-414c-8b04-a26811511a21",
        "rgb": [
         25.118061674008803,
         73.60176211453744,
         107.4819383259912
        ]
       }
      },
      "rules": {
       "blockquote": {
        "color": "50f92c45-a630-455b-aec3-788680ec7410"
       },
       "code": {
        "font-family": "Anonymous Pro"
       },
       "h1": {
        "color": "c5cc3653-2ee1-402a-aba2-7caae1da4f6c",
        "font-family": "Lato",
        "font-size": 8
       },
       "h2": {
        "color": "c5cc3653-2ee1-402a-aba2-7caae1da4f6c",
        "font-family": "Lato",
        "font-size": 6
       },
       "h3": {
        "color": "50f92c45-a630-455b-aec3-788680ec7410",
        "font-family": "Lato",
        "font-size": 5.5
       },
       "h4": {
        "color": "c5cc3653-2ee1-402a-aba2-7caae1da4f6c",
        "font-family": "Lato",
        "font-size": 5
       },
       "h5": {
        "font-family": "Lato"
       },
       "h6": {
        "font-family": "Lato"
       },
       "h7": {
        "font-family": "Lato"
       },
       "pre": {
        "font-family": "Anonymous Pro",
        "font-size": 4
       }
      },
      "text-base": {
       "font-family": "Merriweather",
       "font-size": 4
      }
     }
    }
   }
  },
  "toc": {
   "colors": {
    "hover_highlight": "#DAA520",
    "running_highlight": "#FF0000",
    "selected_highlight": "#FFD700"
   },
   "moveMenuLeft": true,
   "nav_menu": {
    "height": "354px",
    "width": "252px"
   },
   "navigate_menu": true,
   "number_sections": true,
   "sideBar": true,
   "threshold": 4,
   "toc_cell": false,
   "toc_section_display": "block",
   "toc_window_display": false
  }
 },
 "nbformat": 4,
 "nbformat_minor": 1
}
